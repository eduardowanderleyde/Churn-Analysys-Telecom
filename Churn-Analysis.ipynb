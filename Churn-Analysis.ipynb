{
 "cells": [
  {
   "cell_type": "markdown",
   "id": "9b0edb5c",
   "metadata": {},
   "source": [
    "Mini-Project!\n",
    "Statistical Modeling and Interpretation of Results in Churn Analysis!"
   ]
  },
  {
   "cell_type": "code",
   "execution_count": 7,
   "id": "f1c37210",
   "metadata": {},
   "outputs": [],
   "source": [
    "!pip install -q -U watermark"
   ]
  },
  {
   "cell_type": "code",
   "execution_count": 8,
   "id": "ab044199",
   "metadata": {},
   "outputs": [
    {
     "name": "stderr",
     "output_type": "stream",
     "text": [
      "ERROR: Cannot install matplotlib==3.8.0, numpy==2.3.2, pandas==2.3.1, seaborn==0.13.2 and statsmodels==0.14.4 because these package versions have conflicting dependencies.\n",
      "ERROR: ResolutionImpossible: for help visit https://pip.pypa.io/en/latest/topics/dependency-resolution/#dealing-with-dependency-conflicts\n"
     ]
    }
   ],
   "source": [
    "!pip install -q pandas==2.3.1 numpy==2.3.2 statsmodels==0.14.4 seaborn==0.13.2 matplotlib==3.8.0 plotly==5.24.1 ipython==8.30.0\n"
   ]
  },
  {
   "cell_type": "code",
   "execution_count": 9,
   "id": "a75e90a1",
   "metadata": {},
   "outputs": [],
   "source": [
    "import pandas as pd\n",
    "import numpy as np\n",
    "import statsmodels.api as sm\n",
    "import seaborn as sns\n",
    "import matplotlib.pyplot as plt\n",
    "import plotly.express as px\n",
    "import plotly.graph_objects as go\n",
    "from IPython.display import display, Markdown"
   ]
  },
  {
   "cell_type": "code",
   "execution_count": 10,
   "id": "f15c6027",
   "metadata": {},
   "outputs": [],
   "source": [
    "#config to better display the data\n",
    "pd.set_option('display.float_format', lambda x: '%.4f' % x)"
   ]
  },
  {
   "cell_type": "code",
   "execution_count": 11,
   "id": "572040e1",
   "metadata": {},
   "outputs": [
    {
     "name": "stdout",
     "output_type": "stream",
     "text": [
      "Author: Statistical Modeling and Interpretation of Results in Churn Analysis\n",
      "\n"
     ]
    }
   ],
   "source": [
    "%reload_ext watermark\n",
    "%watermark -a \"Eduardo\" -a \"Data Engineer\" -a \"2025-10-20\" -a \"Mini-Project\" -a \"Statistical Modeling and Interpretation of Results in Churn Analysis\""
   ]
  },
  {
   "cell_type": "code",
   "execution_count": 12,
   "id": "c26b8097",
   "metadata": {},
   "outputs": [
    {
     "name": "stdout",
     "output_type": "stream",
     "text": [
      "numpy      : 2.3.4\n",
      "matplotlib : 3.10.7\n",
      "statsmodels: 0.14.5\n",
      "pandas     : 2.3.1\n",
      "seaborn    : 0.13.2\n",
      "IPython    : 9.6.0\n",
      "plotly     : 6.3.1\n",
      "\n"
     ]
    }
   ],
   "source": [
    "%watermark --iversions"
   ]
  },
  {
   "cell_type": "markdown",
   "id": "f1c53ef4",
   "metadata": {},
   "source": [
    "display(Markdown(\"\"\"\n",
    "## 2. Business Problem Definition\n",
    "\n",
    "### **2.1. Business Problem**\n",
    "\n",
    "**Conecta Telecom**, a fictitious telecommunications company, is facing a churn rate above the industry average.\n",
    "\n",
    "Management needs clear, data-driven answers to the following question:\n",
    "**What are the main factors that lead our customers to cancel their services?**\n",
    "\n",
    "- We want to understand the relationship between variables → Statistical Modeling\n",
    "- If we want to predict churn → Predictive Modeling\n",
    "\n",
    "### **2.2. Project Objectives**\n",
    "\n",
    "This project aims to use statistical modeling to analyze customer data and achieve the following objectives:\n",
    "\n",
    "1. Identify Key Factors: Determine which variables (such as contract type, loyalty period, invoice amount) have a direct impact on churn.\n",
    "2. Quantify the Impact: Measure the influence of each factor on churn risk.\n",
    "3. Generate Recommendations: Translate the results of the statistical analysis into actionable business recommendations for creating customer retention strategies.\n",
    "\n",
    "The model chosen for this analysis will be Logistic Regression, as our goal is to understand the relationship between several variables and a binary variable (churn or no churn).\n",
    "\"\"\"))"
   ]
  },
  {
   "cell_type": "code",
   "execution_count": null,
   "id": "c36bb046",
   "metadata": {},
   "outputs": [],
   "source": [
    "def dsa_gera_dados_churn(num_clientes=2000):\n",
    "    \"\"\"\n",
    "    Generates a DataFrame of fictitious customer data from a telecommunications company.\n",
    "    \"\"\"\n",
    "\n",
    "    # For reproducibility\n",
    "    np.random.seed(42)\n",
    "\n",
    "    # Variables\n",
    "    fidelidade_meses = np.random.randint(1, 73, size=num_clientes)\n",
    "\n",
    "    tipo_contrato_opts = ['Monthly', 'Annual', 'Two years']\n",
    "    contrato_probs = [0.6, 0.25, 0.15]\n",
    "    tipo_contrato = np.random.choice(tipo_contrato_opts, size=num_clientes, p=contrato_probs)\n",
    "\n",
    "    servico_internet_opts = ['Fiber Optics', 'DSL', 'No']\n",
    "    internet_probs = [0.55, 0.35, 0.10]\n",
    "    servico_internet = np.random.choice(servico_internet_opts, size=num_clientes, p=internet_probs)\n",
    "\n",
    "    fatura_base = {\n",
    "        'Monthly': np.random.normal(60, 20),\n",
    "        'Annual': np.random.normal(70, 25),\n",
    "        'Two years': np.random.normal(80, 25)\n",
    "    }\n",
    "\n",
    "    fatura_mensal = [fatura_base[c] + fidelidade_meses[i] * 0.2 + np.random.normal(0, 5) \n",
    "                     for i, c in enumerate(tipo_contrato)]\n",
    "    fatura_mensal = np.clip(fatura_mensal, 20, 120)\n",
    "\n",
    "    # Logic for churn probability\n",
    "    prob_churn_log = -2.5\n",
    "    prob_churn_log += -0.05 * fidelidade_meses  # More loyalty, less chance of churn\n",
    "    prob_churn_log += [3.0 if c == 'Monthly' else 1.5 if c == 'Anual' else 0 for c in tipo_contrato]\n",
    "    prob_churn_log += [0.8 if s == 'Fiber Optics' else -0.5 if s == 'DSL' else 0 for s in servico_internet]\n",
    "    prob_churn_log += 0.03 * np.array(fatura_mensal)  # Higher bills, more chance of churn\n",
    "\n",
    "    prob_churn = 1 / (1 + np.exp(-np.array(prob_churn_log)))\n",
    "    churn = np.random.binomial(1, prob_churn)\n",
    "\n",
    "    # Construct DataFrame\n",
    "    df = pd.DataFrame({\n",
    "        'ID_Cliente': range(1, num_clientes + 1),\n",
    "        'FidelidadeMeses': fidelidade_meses,\n",
    "        'TipoContrato': tipo_contrato,\n",
    "        'ServicoInternet': servico_internet,\n",
    "        'FaturaMensal': fatura_mensal,\n",
    "        'Churn': churn\n",
    "    })\n",
    "\n",
    "    return df\n"
   ]
  }
 ],
 "metadata": {
  "kernelspec": {
   "display_name": "Python 3",
   "language": "python",
   "name": "python3"
  },
  "language_info": {
   "codemirror_mode": {
    "name": "ipython",
    "version": 3
   },
   "file_extension": ".py",
   "mimetype": "text/x-python",
   "name": "python",
   "nbconvert_exporter": "python",
   "pygments_lexer": "ipython3",
   "version": "3.11.9"
  }
 },
 "nbformat": 4,
 "nbformat_minor": 5
}
