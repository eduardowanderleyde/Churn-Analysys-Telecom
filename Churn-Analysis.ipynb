{
 "cells": [
  {
   "cell_type": "markdown",
   "id": "9b0edb5c",
   "metadata": {},
   "source": [
    "Mini-Project!\n",
    "Statistical Modeling and Interpretation of Results in Churn Analysis!"
   ]
  },
  {
   "cell_type": "code",
   "execution_count": 1,
   "id": "f1c37210",
   "metadata": {},
   "outputs": [],
   "source": [
    "!pip install -q -U watermark"
   ]
  },
  {
   "cell_type": "code",
   "execution_count": 2,
   "id": "ab044199",
   "metadata": {},
   "outputs": [
    {
     "name": "stderr",
     "output_type": "stream",
     "text": [
      "ERROR: Cannot install matplotlib==3.8.0, numpy==2.3.2, pandas==2.3.1, seaborn==0.13.2 and statsmodels==0.14.4 because these package versions have conflicting dependencies.\n",
      "ERROR: ResolutionImpossible: for help visit https://pip.pypa.io/en/latest/topics/dependency-resolution/#dealing-with-dependency-conflicts\n"
     ]
    }
   ],
   "source": [
    "!pip install -q pandas==2.3.1 numpy==2.3.2 statsmodels==0.14.4 seaborn==0.13.2 matplotlib==3.8.0 plotly==5.24.1 ipython==8.30.0\n"
   ]
  },
  {
   "cell_type": "code",
   "execution_count": 3,
   "id": "a75e90a1",
   "metadata": {},
   "outputs": [],
   "source": [
    "import pandas as pd\n",
    "import numpy as np\n",
    "import statsmodels.api as sm\n",
    "import seaborn as sns\n",
    "import matplotlib.pyplot as plt\n",
    "import plotly.express as px\n",
    "import plotly.graph_objects as go\n",
    "from IPython.display import display, Markdown"
   ]
  },
  {
   "cell_type": "code",
   "execution_count": 4,
   "id": "f15c6027",
   "metadata": {},
   "outputs": [],
   "source": [
    "#config to better display the data\n",
    "pd.set_option('display.float_format', lambda x: '%.4f' % x)"
   ]
  },
  {
   "cell_type": "code",
   "execution_count": 5,
   "id": "572040e1",
   "metadata": {},
   "outputs": [
    {
     "name": "stdout",
     "output_type": "stream",
     "text": [
      "Author: Statistical Modeling and Interpretation of Results in Churn Analysis\n",
      "\n"
     ]
    }
   ],
   "source": [
    "%reload_ext watermark\n",
    "%watermark -a \"Eduardo\" -a \"Data Engineer\" -a \"2025-10-20\" -a \"Mini-Project\" -a \"Statistical Modeling and Interpretation of Results in Churn Analysis\""
   ]
  },
  {
   "cell_type": "code",
   "execution_count": 6,
   "id": "c26b8097",
   "metadata": {},
   "outputs": [
    {
     "name": "stdout",
     "output_type": "stream",
     "text": [
      "pandas     : 2.3.1\n",
      "seaborn    : 0.13.2\n",
      "IPython    : 9.6.0\n",
      "statsmodels: 0.14.5\n",
      "matplotlib : 3.10.7\n",
      "plotly     : 6.3.1\n",
      "numpy      : 2.3.4\n",
      "\n"
     ]
    }
   ],
   "source": [
    "%watermark --iversions"
   ]
  },
  {
   "cell_type": "markdown",
   "id": "f1c53ef4",
   "metadata": {},
   "source": [
    "display(Markdown(\"\"\"\n",
    "## 2. Business Problem Definition\n",
    "\n",
    "### **2.1. Business Problem**\n",
    "\n",
    "**Conecta Telecom**, a fictitious telecommunications company, is facing a churn rate above the industry average.\n",
    "\n",
    "Management needs clear, data-driven answers to the following question:\n",
    "**What are the main factors that lead our customers to cancel their services?**\n",
    "\n",
    "- We want to understand the relationship between variables → Statistical Modeling\n",
    "- If we want to predict churn → Predictive Modeling\n",
    "\n",
    "### **2.2. Project Objectives**\n",
    "\n",
    "This project aims to use statistical modeling to analyze customer data and achieve the following objectives:\n",
    "\n",
    "1. Identify Key Factors: Determine which variables (such as contract type, loyalty period, invoice amount) have a direct impact on churn.\n",
    "2. Quantify the Impact: Measure the influence of each factor on churn risk.\n",
    "3. Generate Recommendations: Translate the results of the statistical analysis into actionable business recommendations for creating customer retention strategies.\n",
    "\n",
    "The model chosen for this analysis will be Logistic Regression, as our goal is to understand the relationship between several variables and a binary variable (churn or no churn).\n",
    "\"\"\"))"
   ]
  },
  {
   "cell_type": "code",
   "execution_count": 7,
   "id": "c36bb046",
   "metadata": {},
   "outputs": [],
   "source": [
    "def dsa_generate_churn_data(num_clients=2000):\n",
    "    \"\"\"\n",
    "    Generates a DataFrame of fictitious customer data from a telecommunications company.\n",
    "    \"\"\"\n",
    "\n",
    "    # For reproducibility\n",
    "    np.random.seed(42)\n",
    "\n",
    "    # Variables\n",
    "    tenure_months = np.random.randint(1, 73, size=num_clients)\n",
    "\n",
    "    contract_type_opts = ['Monthly', 'Annual', 'Two years']\n",
    "    contract_probs = [0.6, 0.25, 0.15]\n",
    "    contract_type = np.random.choice(contract_type_opts, size=num_clients, p=contract_probs)\n",
    "\n",
    "    internet_service_opts = ['Fiber Optics', 'DSL', 'No']\n",
    "    internet_probs = [0.55, 0.35, 0.10]\n",
    "    internet_service = np.random.choice(internet_service_opts, size=num_clients, p=internet_probs)\n",
    "\n",
    "    base_charge = {\n",
    "        'Monthly': np.random.normal(60, 20),\n",
    "        'Annual': np.random.normal(70, 25),\n",
    "        'Two years': np.random.normal(80, 25)\n",
    "    }\n",
    "\n",
    "    monthly_charge = [\n",
    "        base_charge[c] + tenure_months[i] * 0.2 + np.random.normal(0, 5)\n",
    "        for i, c in enumerate(contract_type)\n",
    "    ]\n",
    "    monthly_charge = np.clip(monthly_charge, 20, 120)\n",
    "\n",
    "    # Logic for churn probability\n",
    "    prob_churn_log = -2.5\n",
    "    prob_churn_log += -0.05 * tenure_months  # More loyalty, less chance of churn\n",
    "    prob_churn_log += [3.0 if c == 'Monthly' else 1.5 if c == 'Annual' else 0 for c in contract_type]\n",
    "    prob_churn_log += [0.8 if s == 'Fiber Optics' else -0.5 if s == 'DSL' else 0 for s in internet_service]\n",
    "    prob_churn_log += 0.03 * np.array(monthly_charge)  # Higher bills, more chance of churn\n",
    "\n",
    "    prob_churn = 1 / (1 + np.exp(-np.array(prob_churn_log)))\n",
    "    churn = np.random.binomial(1, prob_churn)\n",
    "\n",
    "    # Construct DataFrame\n",
    "    df = pd.DataFrame({\n",
    "        'CustomerID': range(1, num_clients + 1),\n",
    "        'TenureMonths': tenure_months,\n",
    "        'ContractType': contract_type,\n",
    "        'InternetService': internet_service,\n",
    "        'MonthlyCharge': monthly_charge,\n",
    "        'Churn': churn\n",
    "    })\n",
    "\n",
    "    return df\n"
   ]
  },
  {
   "cell_type": "code",
   "execution_count": 10,
   "id": "220e11f5",
   "metadata": {},
   "outputs": [],
   "source": [
    "# Generate data\n",
    "df_churn = dsa_generate_churn_data()"
   ]
  },
  {
   "cell_type": "code",
   "execution_count": null,
   "id": "d7c5467c",
   "metadata": {},
   "outputs": [
    {
     "data": {
      "text/markdown": [
       "### Sample of Generated Data"
      ],
      "text/plain": [
       "<IPython.core.display.Markdown object>"
      ]
     },
     "metadata": {},
     "output_type": "display_data"
    },
    {
     "data": {
      "text/html": [
       "<div>\n",
       "<style scoped>\n",
       "    .dataframe tbody tr th:only-of-type {\n",
       "        vertical-align: middle;\n",
       "    }\n",
       "\n",
       "    .dataframe tbody tr th {\n",
       "        vertical-align: top;\n",
       "    }\n",
       "\n",
       "    .dataframe thead th {\n",
       "        text-align: right;\n",
       "    }\n",
       "</style>\n",
       "<table border=\"1\" class=\"dataframe\">\n",
       "  <thead>\n",
       "    <tr style=\"text-align: right;\">\n",
       "      <th></th>\n",
       "      <th>CustomerID</th>\n",
       "      <th>TenureMonths</th>\n",
       "      <th>ContractType</th>\n",
       "      <th>InternetService</th>\n",
       "      <th>MonthlyCharge</th>\n",
       "      <th>Churn</th>\n",
       "    </tr>\n",
       "  </thead>\n",
       "  <tbody>\n",
       "    <tr>\n",
       "      <th>0</th>\n",
       "      <td>1</td>\n",
       "      <td>52</td>\n",
       "      <td>Annual</td>\n",
       "      <td>Fiber Optics</td>\n",
       "      <td>36.5724</td>\n",
       "      <td>0</td>\n",
       "    </tr>\n",
       "    <tr>\n",
       "      <th>1</th>\n",
       "      <td>2</td>\n",
       "      <td>15</td>\n",
       "      <td>Two years</td>\n",
       "      <td>Fiber Optics</td>\n",
       "      <td>45.2871</td>\n",
       "      <td>0</td>\n",
       "    </tr>\n",
       "    <tr>\n",
       "      <th>2</th>\n",
       "      <td>3</td>\n",
       "      <td>72</td>\n",
       "      <td>Monthly</td>\n",
       "      <td>Fiber Optics</td>\n",
       "      <td>101.0033</td>\n",
       "      <td>1</td>\n",
       "    </tr>\n",
       "    <tr>\n",
       "      <th>3</th>\n",
       "      <td>4</td>\n",
       "      <td>61</td>\n",
       "      <td>Monthly</td>\n",
       "      <td>Fiber Optics</td>\n",
       "      <td>103.3314</td>\n",
       "      <td>1</td>\n",
       "    </tr>\n",
       "    <tr>\n",
       "      <th>4</th>\n",
       "      <td>5</td>\n",
       "      <td>21</td>\n",
       "      <td>Monthly</td>\n",
       "      <td>DSL</td>\n",
       "      <td>94.0969</td>\n",
       "      <td>1</td>\n",
       "    </tr>\n",
       "  </tbody>\n",
       "</table>\n",
       "</div>"
      ],
      "text/plain": [
       "   CustomerID  TenureMonths ContractType InternetService  MonthlyCharge  Churn\n",
       "0           1            52       Annual    Fiber Optics        36.5724      0\n",
       "1           2            15    Two years    Fiber Optics        45.2871      0\n",
       "2           3            72      Monthly    Fiber Optics       101.0033      1\n",
       "3           4            61      Monthly    Fiber Optics       103.3314      1\n",
       "4           5            21      Monthly             DSL        94.0969      1"
      ]
     },
     "metadata": {},
     "output_type": "display_data"
    }
   ],
   "source": [
    "display(Markdown(\"### Sample of Generated Data\"))\n",
    "display(df_churn.head())\n"
   ]
  },
  {
   "cell_type": "markdown",
   "id": "514b6a69",
   "metadata": {},
   "source": [
    "## 4. Exploratory Data  (EDA)"
   ]
  },
  {
   "cell_type": "code",
   "execution_count": 15,
   "id": "7f83af46",
   "metadata": {},
   "outputs": [
    {
     "data": {
      "text/markdown": [
       "### General dataframe information"
      ],
      "text/plain": [
       "<IPython.core.display.Markdown object>"
      ]
     },
     "metadata": {},
     "output_type": "display_data"
    },
    {
     "name": "stdout",
     "output_type": "stream",
     "text": [
      "<class 'pandas.core.frame.DataFrame'>\n",
      "RangeIndex: 2000 entries, 0 to 1999\n",
      "Data columns (total 6 columns):\n",
      " #   Column           Non-Null Count  Dtype  \n",
      "---  ------           --------------  -----  \n",
      " 0   CustomerID       2000 non-null   int64  \n",
      " 1   TenureMonths     2000 non-null   int32  \n",
      " 2   ContractType     2000 non-null   object \n",
      " 3   InternetService  2000 non-null   object \n",
      " 4   MonthlyCharge    2000 non-null   float64\n",
      " 5   Churn            2000 non-null   int32  \n",
      "dtypes: float64(1), int32(2), int64(1), object(2)\n",
      "memory usage: 78.3+ KB\n"
     ]
    }
   ],
   "source": [
    "# General dataframe information\n",
    "display(Markdown(\"### General dataframe information\"))\n",
    "df_churn.info()\n"
   ]
  },
  {
   "cell_type": "code",
   "execution_count": null,
   "id": "14becfab",
   "metadata": {},
   "outputs": [
    {
     "data": {
      "text/markdown": [
       "### Statistical Summary of Numerical Variables"
      ],
      "text/plain": [
       "<IPython.core.display.Markdown object>"
      ]
     },
     "metadata": {},
     "output_type": "display_data"
    },
    {
     "data": {
      "text/html": [
       "<div>\n",
       "<style scoped>\n",
       "    .dataframe tbody tr th:only-of-type {\n",
       "        vertical-align: middle;\n",
       "    }\n",
       "\n",
       "    .dataframe tbody tr th {\n",
       "        vertical-align: top;\n",
       "    }\n",
       "\n",
       "    .dataframe thead th {\n",
       "        text-align: right;\n",
       "    }\n",
       "</style>\n",
       "<table border=\"1\" class=\"dataframe\">\n",
       "  <thead>\n",
       "    <tr style=\"text-align: right;\">\n",
       "      <th></th>\n",
       "      <th>CustomerID</th>\n",
       "      <th>TenureMonths</th>\n",
       "      <th>MonthlyCharge</th>\n",
       "      <th>Churn</th>\n",
       "    </tr>\n",
       "  </thead>\n",
       "  <tbody>\n",
       "    <tr>\n",
       "      <th>count</th>\n",
       "      <td>2000.0000</td>\n",
       "      <td>2000.0000</td>\n",
       "      <td>2000.0000</td>\n",
       "      <td>2000.0000</td>\n",
       "    </tr>\n",
       "    <tr>\n",
       "      <th>mean</th>\n",
       "      <td>1000.5000</td>\n",
       "      <td>35.6825</td>\n",
       "      <td>75.3201</td>\n",
       "      <td>0.5655</td>\n",
       "    </tr>\n",
       "    <tr>\n",
       "      <th>std</th>\n",
       "      <td>577.4946</td>\n",
       "      <td>20.8430</td>\n",
       "      <td>27.5079</td>\n",
       "      <td>0.4958</td>\n",
       "    </tr>\n",
       "    <tr>\n",
       "      <th>min</th>\n",
       "      <td>1.0000</td>\n",
       "      <td>1.0000</td>\n",
       "      <td>24.9216</td>\n",
       "      <td>0.0000</td>\n",
       "    </tr>\n",
       "    <tr>\n",
       "      <th>25%</th>\n",
       "      <td>500.7500</td>\n",
       "      <td>17.0000</td>\n",
       "      <td>45.0201</td>\n",
       "      <td>0.0000</td>\n",
       "    </tr>\n",
       "    <tr>\n",
       "      <th>50%</th>\n",
       "      <td>1000.5000</td>\n",
       "      <td>35.0000</td>\n",
       "      <td>90.6543</td>\n",
       "      <td>1.0000</td>\n",
       "    </tr>\n",
       "    <tr>\n",
       "      <th>75%</th>\n",
       "      <td>1500.2500</td>\n",
       "      <td>54.0000</td>\n",
       "      <td>98.5286</td>\n",
       "      <td>1.0000</td>\n",
       "    </tr>\n",
       "    <tr>\n",
       "      <th>max</th>\n",
       "      <td>2000.0000</td>\n",
       "      <td>72.0000</td>\n",
       "      <td>119.2712</td>\n",
       "      <td>1.0000</td>\n",
       "    </tr>\n",
       "  </tbody>\n",
       "</table>\n",
       "</div>"
      ],
      "text/plain": [
       "       CustomerID  TenureMonths  MonthlyCharge     Churn\n",
       "count   2000.0000     2000.0000      2000.0000 2000.0000\n",
       "mean    1000.5000       35.6825        75.3201    0.5655\n",
       "std      577.4946       20.8430        27.5079    0.4958\n",
       "min        1.0000        1.0000        24.9216    0.0000\n",
       "25%      500.7500       17.0000        45.0201    0.0000\n",
       "50%     1000.5000       35.0000        90.6543    1.0000\n",
       "75%     1500.2500       54.0000        98.5286    1.0000\n",
       "max     2000.0000       72.0000       119.2712    1.0000"
      ]
     },
     "metadata": {},
     "output_type": "display_data"
    }
   ],
   "source": [
    "# Summary Statistical  of Numerical Variables\n",
    "display(Markdown(\"### Statistical Summary of Numerical Variables\"))\n",
    "display(df_churn.describe())\n"
   ]
  },
  {
   "cell_type": "markdown",
   "id": "e039dd9e",
   "metadata": {},
   "source": [
    "## 4.1 Summary Statistics of Categorical Variables"
   ]
  },
  {
   "cell_type": "code",
   "execution_count": 18,
   "id": "027140a3",
   "metadata": {},
   "outputs": [
    {
     "data": {
      "text/markdown": [
       "### Summary Statistics of Categorical Variables"
      ],
      "text/plain": [
       "<IPython.core.display.Markdown object>"
      ]
     },
     "metadata": {},
     "output_type": "display_data"
    },
    {
     "data": {
      "text/html": [
       "<div>\n",
       "<style scoped>\n",
       "    .dataframe tbody tr th:only-of-type {\n",
       "        vertical-align: middle;\n",
       "    }\n",
       "\n",
       "    .dataframe tbody tr th {\n",
       "        vertical-align: top;\n",
       "    }\n",
       "\n",
       "    .dataframe thead th {\n",
       "        text-align: right;\n",
       "    }\n",
       "</style>\n",
       "<table border=\"1\" class=\"dataframe\">\n",
       "  <thead>\n",
       "    <tr style=\"text-align: right;\">\n",
       "      <th></th>\n",
       "      <th>ContractType</th>\n",
       "      <th>InternetService</th>\n",
       "    </tr>\n",
       "  </thead>\n",
       "  <tbody>\n",
       "    <tr>\n",
       "      <th>count</th>\n",
       "      <td>2000</td>\n",
       "      <td>2000</td>\n",
       "    </tr>\n",
       "    <tr>\n",
       "      <th>unique</th>\n",
       "      <td>3</td>\n",
       "      <td>3</td>\n",
       "    </tr>\n",
       "    <tr>\n",
       "      <th>top</th>\n",
       "      <td>Monthly</td>\n",
       "      <td>Fiber Optics</td>\n",
       "    </tr>\n",
       "    <tr>\n",
       "      <th>freq</th>\n",
       "      <td>1186</td>\n",
       "      <td>1114</td>\n",
       "    </tr>\n",
       "  </tbody>\n",
       "</table>\n",
       "</div>"
      ],
      "text/plain": [
       "       ContractType InternetService\n",
       "count          2000            2000\n",
       "unique            3               3\n",
       "top         Monthly    Fiber Optics\n",
       "freq           1186            1114"
      ]
     },
     "metadata": {},
     "output_type": "display_data"
    }
   ],
   "source": [
    "# Summary Statistics of Categorical Variables\n",
    "display(Markdown(\"### Summary Statistics of Categorical Variables\"))\n",
    "display(df_churn.describe(include=['object']))\n"
   ]
  },
  {
   "cell_type": "markdown",
   "id": "fa43ab7d",
   "metadata": {},
   "source": [
    "## 4.2 Overall Churn Rate Chart"
   ]
  },
  {
   "cell_type": "code",
   "execution_count": 19,
   "id": "ffeb35e4",
   "metadata": {},
   "outputs": [
    {
     "data": {
      "image/png": "[encoded data removed]",
      "text/plain": [
       "<Figure size 600x600 with 1 Axes>"
      ]
     },
     "metadata": {},
     "output_type": "display_data"
    }
   ],
   "source": [
    "# Counts the values ​​in the 'Churn' column\n",
    "churn_counts = df_churn['Churn'].value_counts().rename(index={1: 'Yes', 0: 'No'})\n",
    "\n",
    "# Sets the colors equivalent to the original graph\n",
    "colors = ['#636EFA', '#EF553B']\n",
    "\n",
    "# Creates the pie chart with two decimal places\n",
    "plt.figure(figsize=(6, 6))\n",
    "plt.pie(\n",
    "    churn_counts.values,\n",
    "    labels=churn_counts.index,\n",
    "    autopct='%1.2f%%',          # show percentage with 2 decimal places\n",
    "    startangle=140,             # initial angle to rotate the graph\n",
    "    colors=colors,\n",
    "    explode=[0.05 if label == 'Yes' else 0 for label in churn_counts.index]  # highlights the \"Yes\" slice\n",
    ")\n",
    "plt.title('Overall Churn Rate', fontsize=14)\n",
    "plt.show()\n"
   ]
  },
  {
   "cell_type": "code",
   "execution_count": 52,
   "id": "b8c0ac58",
   "metadata": {},
   "outputs": [],
   "source": [
    "import plotly.io as pio\n",
    "pio.renderers.default = \"browser\"   # se ainda der erro, use \"browser\"\n",
    "# pio.renderers.default = \"browser\"\n"
   ]
  },
  {
   "cell_type": "code",
   "execution_count": null,
   "id": "99e41a9b",
   "metadata": {},
   "outputs": [],
   "source": [
    "# Calculate count by category\n",
    "churn_counts = df_churn['Churn'].value_counts()\n",
    "\n",
    "# Create the graph\n",
    "fig_pie = px.pie(\n",
    "    values=churn_counts.values,\n",
    "    names=churn_counts.index.map({1: 'Yes', 0: 'No'}),  # rename the categories\n",
    "    title='Overall Churn Rate',\n",
    "    color=churn_counts.index.map({1: 'Yes', 0: 'No'}),  # use the same categories for color\n",
    "    color_discrete_map={'Yes': '#EF553B', 'No': '#636EFA'}  # define manual colors\n",
    ")\n",
    "\n",
    "# Show the chart\n",
    "fig_pie.show()\n"
   ]
  },
  {
   "cell_type": "code",
   "execution_count": null,
   "id": "12dbd1e9",
   "metadata": {},
   "outputs": [
    {
     "data": {
      "text/markdown": [
       "\n",
       "The average churn rate in our database is  56.550000%.\n",
       "This is our main indicator to analyze.\n"
      ],
      "text/plain": [
       "<IPython.core.display.Markdown object>"
      ]
     },
     "metadata": {},
     "output_type": "display_data"
    }
   ],
   "source": [
    "# Calculate the churn rate\n",
    "churn_counts = df_churn['Churn'].value_counts()\n",
    "numerador = churn_counts.get(1, churn_counts.get('Yes', churn_counts.get(True, 0)))\n",
    "taxa = 100 * numerador / len(df_churn) \n",
    "\n",
    "display(Markdown(f\"\"\"\n",
    "The average churn rate in our database is {taxa: 2f}%.\n",
    "This is our main indicator to analyze.\n",
    "\"\"\"))"
   ]
  }
 ],
 "metadata": {
  "kernelspec": {
   "display_name": "Python 3",
   "language": "python",
   "name": "python3"
  },
  "language_info": {
   "codemirror_mode": {
    "name": "ipython",
    "version": 3
   },
   "file_extension": ".py",
   "mimetype": "text/x-python",
   "name": "python",
   "nbconvert_exporter": "python",
   "pygments_lexer": "ipython3",
   "version": "3.11.9"
  }
 },
 "nbformat": 4,
 "nbformat_minor": 5
}
