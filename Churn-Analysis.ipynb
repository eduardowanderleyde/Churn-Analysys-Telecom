{
 "cells": [
  {
   "cell_type": "markdown",
   "id": "9b0edb5c",
   "metadata": {},
   "source": [
    "Mini-Project!\n",
    "Statistical Modeling and Interpretation of Results in Churn Analysis!"
   ]
  },
  {
   "cell_type": "code",
   "execution_count": 2,
   "id": "f1c37210",
   "metadata": {},
   "outputs": [],
   "source": [
    "!pip install -q -U watermark"
   ]
  },
  {
   "cell_type": "code",
   "execution_count": 3,
   "id": "ab044199",
   "metadata": {},
   "outputs": [
    {
     "name": "stderr",
     "output_type": "stream",
     "text": [
      "ERROR: Cannot install matplotlib==3.8.0, numpy==2.3.2, pandas==2.3.1, seaborn==0.13.2 and statsmodels==0.14.4 because these package versions have conflicting dependencies.\n",
      "ERROR: ResolutionImpossible: for help visit https://pip.pypa.io/en/latest/topics/dependency-resolution/#dealing-with-dependency-conflicts\n"
     ]
    }
   ],
   "source": [
    "!pip install -q pandas==2.3.1 numpy==2.3.2 statsmodels==0.14.4 seaborn==0.13.2 matplotlib==3.8.0 plotly==5.24.1 ipython==8.30.0\n"
   ]
  },
  {
   "cell_type": "code",
   "execution_count": 4,
   "id": "a75e90a1",
   "metadata": {},
   "outputs": [],
   "source": [
    "import pandas as pd\n",
    "import numpy as np\n",
    "import statsmodels.api as sm\n",
    "import seaborn as sns\n",
    "import matplotlib.pyplot as plt\n",
    "import plotly.express as px\n",
    "import plotly.graph_objects as go\n",
    "from IPython.display import display, Markdown"
   ]
  },
  {
   "cell_type": "code",
   "execution_count": 5,
   "id": "f15c6027",
   "metadata": {},
   "outputs": [],
   "source": [
    "#config to better display the data\n",
    "pd.set_option('display.float_format', lambda x: '%.4f' % x)"
   ]
  },
  {
   "cell_type": "code",
   "execution_count": 6,
   "id": "572040e1",
   "metadata": {},
   "outputs": [
    {
     "name": "stdout",
     "output_type": "stream",
     "text": [
      "Author: Statistical Modeling and Interpretation of Results in Churn Analysis\n",
      "\n"
     ]
    }
   ],
   "source": [
    "%reload_ext watermark\n",
    "%watermark -a \"Eduardo\" -a \"Data Engineer\" -a \"2025-10-20\" -a \"Mini-Project\" -a \"Statistical Modeling and Interpretation of Results in Churn Analysis\""
   ]
  },
  {
   "cell_type": "code",
   "execution_count": 7,
   "id": "c26b8097",
   "metadata": {},
   "outputs": [
    {
     "name": "stdout",
     "output_type": "stream",
     "text": [
      "matplotlib : 3.10.7\n",
      "seaborn    : 0.13.2\n",
      "pandas     : 2.3.1\n",
      "IPython    : 9.6.0\n",
      "numpy      : 2.3.4\n",
      "plotly     : 6.3.1\n",
      "statsmodels: 0.14.5\n",
      "\n"
     ]
    }
   ],
   "source": [
    "%watermark --iversions"
   ]
  },
  {
   "cell_type": "code",
   "execution_count": 8,
   "id": "b86d6372",
   "metadata": {},
   "outputs": [
    {
     "data": {
      "text/markdown": [
       "\n",
       "## 2. Business Problem Definition\n",
       "\n",
       "### **2.1. Business Problem**\n",
       "\n",
       "**Conecta Telecom**, a fictitious telecommunications company, is facing a churn rate above the industry average.\n",
       "\n",
       "Management needs clear, data-driven answers to the following question:\n",
       "**What are the main factors that lead our customers to cancel their services?**\n",
       "\n",
       "- We want to understand the relationship between variables → Statistical Modeling\n",
       "- If we want to predict churn → Predictive Modeling\n",
       "\n",
       "### **2.2. Project Objectives**\n",
       "\n",
       "This project aims to use statistical modeling to analyze customer data and achieve the following objectives:\n",
       "\n",
       "1. Identify Key Factors: Determine which variables (such as contract type, loyalty period, invoice amount) have a direct impact on churn.\n",
       "2. Quantify the Impact: Measure the influence of each factor on churn risk.\n",
       "3. Generate Recommendations: Translate the results of the statistical analysis into actionable business recommendations for creating customer retention strategies.\n",
       "\n",
       "The model chosen for this analysis will be Logistic Regression, as our goal is to understand the relationship between several variables and a binary variable (churn or no churn).\n"
      ],
      "text/plain": [
       "<IPython.core.display.Markdown object>"
      ]
     },
     "metadata": {},
     "output_type": "display_data"
    }
   ],
   "source": [
    "display(Markdown(\"\"\"\n",
    "## 2. Business Problem Definition\n",
    "\n",
    "### **2.1. Business Problem**\n",
    "\n",
    "**Conecta Telecom**, a fictitious telecommunications company, is facing a churn rate above the industry average.\n",
    "\n",
    "Management needs clear, data-driven answers to the following question:\n",
    "**What are the main factors that lead our customers to cancel their services?**\n",
    "\n",
    "- We want to understand the relationship between variables → Statistical Modeling\n",
    "- If we want to predict churn → Predictive Modeling\n",
    "\n",
    "### **2.2. Project Objectives**\n",
    "\n",
    "This project aims to use statistical modeling to analyze customer data and achieve the following objectives:\n",
    "\n",
    "1. Identify Key Factors: Determine which variables (such as contract type, loyalty period, invoice amount) have a direct impact on churn.\n",
    "2. Quantify the Impact: Measure the influence of each factor on churn risk.\n",
    "3. Generate Recommendations: Translate the results of the statistical analysis into actionable business recommendations for creating customer retention strategies.\n",
    "\n",
    "The model chosen for this analysis will be Logistic Regression, as our goal is to understand the relationship between several variables and a binary variable (churn or no churn).\n",
    "\"\"\"))"
   ]
  },
  {
   "cell_type": "code",
   "execution_count": 9,
   "id": "c36bb046",
   "metadata": {},
   "outputs": [],
   "source": [
    "def dsa_generate_churn_data(num_clients=2000):\n",
    "    \"\"\"\n",
    "    Generates a DataFrame of fictitious customer data from a telecommunications company.\n",
    "    \"\"\"\n",
    "\n",
    "    # For reproducibility\n",
    "    np.random.seed(42)\n",
    "\n",
    "    # Variables\n",
    "    tenure_months = np.random.randint(1, 73, size=num_clients)\n",
    "\n",
    "    contract_type_opts = ['Monthly', 'Annual', 'Two years']\n",
    "    contract_probs = [0.6, 0.25, 0.15]\n",
    "    contract_type = np.random.choice(contract_type_opts, size=num_clients, p=contract_probs)\n",
    "\n",
    "    internet_service_opts = ['Fiber Optics', 'DSL', 'No']\n",
    "    internet_probs = [0.55, 0.35, 0.10]\n",
    "    internet_service = np.random.choice(internet_service_opts, size=num_clients, p=internet_probs)\n",
    "\n",
    "    base_charge = {\n",
    "        'Monthly': np.random.normal(60, 20),\n",
    "        'Annual': np.random.normal(70, 25),\n",
    "        'Two years': np.random.normal(80, 25)\n",
    "    }\n",
    "\n",
    "    monthly_charge = [\n",
    "        base_charge[c] + tenure_months[i] * 0.2 + np.random.normal(0, 5)\n",
    "        for i, c in enumerate(contract_type)\n",
    "    ]\n",
    "    monthly_charge = np.clip(monthly_charge, 20, 120)\n",
    "\n",
    "    # Logic for churn probability\n",
    "    prob_churn_log = -2.5\n",
    "    prob_churn_log += -0.05 * tenure_months  # More loyalty, less chance of churn\n",
    "    prob_churn_log += [3.0 if c == 'Monthly' else 1.5 if c == 'Annual' else 0 for c in contract_type]\n",
    "    prob_churn_log += [0.8 if s == 'Fiber Optics' else -0.5 if s == 'DSL' else 0 for s in internet_service]\n",
    "    prob_churn_log += 0.03 * np.array(monthly_charge)  # Higher bills, more chance of churn\n",
    "\n",
    "    prob_churn = 1 / (1 + np.exp(-np.array(prob_churn_log)))\n",
    "    churn = np.random.binomial(1, prob_churn)\n",
    "\n",
    "    # Construct DataFrame\n",
    "    df = pd.DataFrame({\n",
    "        'CustomerID': range(1, num_clients + 1),\n",
    "        'TenureMonths': tenure_months,\n",
    "        'ContractType': contract_type,\n",
    "        'InternetService': internet_service,\n",
    "        'MonthlyCharge': monthly_charge,\n",
    "        'Churn': churn\n",
    "    })\n",
    "\n",
    "    return df"
   ]
  },
  {
   "cell_type": "code",
   "execution_count": 10,
   "id": "220e11f5",
   "metadata": {},
   "outputs": [],
   "source": [
    "# Generate data\n",
    "df_churn = dsa_generate_churn_data()"
   ]
  },
  {
   "cell_type": "code",
   "execution_count": 11,
   "id": "d7c5467c",
   "metadata": {},
   "outputs": [
    {
     "data": {
      "text/markdown": [
       "### Sample of Generated Data"
      ],
      "text/plain": [
       "<IPython.core.display.Markdown object>"
      ]
     },
     "metadata": {},
     "output_type": "display_data"
    },
    {
     "data": {
      "text/html": [
       "<div>\n",
       "<style scoped>\n",
       "    .dataframe tbody tr th:only-of-type {\n",
       "        vertical-align: middle;\n",
       "    }\n",
       "\n",
       "    .dataframe tbody tr th {\n",
       "        vertical-align: top;\n",
       "    }\n",
       "\n",
       "    .dataframe thead th {\n",
       "        text-align: right;\n",
       "    }\n",
       "</style>\n",
       "<table border=\"1\" class=\"dataframe\">\n",
       "  <thead>\n",
       "    <tr style=\"text-align: right;\">\n",
       "      <th></th>\n",
       "      <th>CustomerID</th>\n",
       "      <th>TenureMonths</th>\n",
       "      <th>ContractType</th>\n",
       "      <th>InternetService</th>\n",
       "      <th>MonthlyCharge</th>\n",
       "      <th>Churn</th>\n",
       "    </tr>\n",
       "  </thead>\n",
       "  <tbody>\n",
       "    <tr>\n",
       "      <th>0</th>\n",
       "      <td>1</td>\n",
       "      <td>52</td>\n",
       "      <td>Annual</td>\n",
       "      <td>Fiber Optics</td>\n",
       "      <td>36.5724</td>\n",
       "      <td>0</td>\n",
       "    </tr>\n",
       "    <tr>\n",
       "      <th>1</th>\n",
       "      <td>2</td>\n",
       "      <td>15</td>\n",
       "      <td>Two years</td>\n",
       "      <td>Fiber Optics</td>\n",
       "      <td>45.2871</td>\n",
       "      <td>0</td>\n",
       "    </tr>\n",
       "    <tr>\n",
       "      <th>2</th>\n",
       "      <td>3</td>\n",
       "      <td>72</td>\n",
       "      <td>Monthly</td>\n",
       "      <td>Fiber Optics</td>\n",
       "      <td>101.0033</td>\n",
       "      <td>1</td>\n",
       "    </tr>\n",
       "    <tr>\n",
       "      <th>3</th>\n",
       "      <td>4</td>\n",
       "      <td>61</td>\n",
       "      <td>Monthly</td>\n",
       "      <td>Fiber Optics</td>\n",
       "      <td>103.3314</td>\n",
       "      <td>1</td>\n",
       "    </tr>\n",
       "    <tr>\n",
       "      <th>4</th>\n",
       "      <td>5</td>\n",
       "      <td>21</td>\n",
       "      <td>Monthly</td>\n",
       "      <td>DSL</td>\n",
       "      <td>94.0969</td>\n",
       "      <td>1</td>\n",
       "    </tr>\n",
       "  </tbody>\n",
       "</table>\n",
       "</div>"
      ],
      "text/plain": [
       "   CustomerID  TenureMonths ContractType InternetService  MonthlyCharge  Churn\n",
       "0           1            52       Annual    Fiber Optics        36.5724      0\n",
       "1           2            15    Two years    Fiber Optics        45.2871      0\n",
       "2           3            72      Monthly    Fiber Optics       101.0033      1\n",
       "3           4            61      Monthly    Fiber Optics       103.3314      1\n",
       "4           5            21      Monthly             DSL        94.0969      1"
      ]
     },
     "metadata": {},
     "output_type": "display_data"
    }
   ],
   "source": [
    "display(Markdown(\"### Sample of Generated Data\"))\n",
    "display(df_churn.head())"
   ]
  },
  {
   "cell_type": "markdown",
   "id": "514b6a69",
   "metadata": {},
   "source": [
    "## 4. Exploratory Data  (EDA)"
   ]
  },
  {
   "cell_type": "code",
   "execution_count": 12,
   "id": "7f83af46",
   "metadata": {},
   "outputs": [
    {
     "data": {
      "text/markdown": [
       "### General dataframe information"
      ],
      "text/plain": [
       "<IPython.core.display.Markdown object>"
      ]
     },
     "metadata": {},
     "output_type": "display_data"
    },
    {
     "name": "stdout",
     "output_type": "stream",
     "text": [
      "<class 'pandas.core.frame.DataFrame'>\n",
      "RangeIndex: 2000 entries, 0 to 1999\n",
      "Data columns (total 6 columns):\n",
      " #   Column           Non-Null Count  Dtype  \n",
      "---  ------           --------------  -----  \n",
      " 0   CustomerID       2000 non-null   int64  \n",
      " 1   TenureMonths     2000 non-null   int32  \n",
      " 2   ContractType     2000 non-null   object \n",
      " 3   InternetService  2000 non-null   object \n",
      " 4   MonthlyCharge    2000 non-null   float64\n",
      " 5   Churn            2000 non-null   int32  \n",
      "dtypes: float64(1), int32(2), int64(1), object(2)\n",
      "memory usage: 78.3+ KB\n"
     ]
    }
   ],
   "source": [
    "# General dataframe information\n",
    "display(Markdown(\"### General dataframe information\"))\n",
    "df_churn.info()"
   ]
  },
  {
   "cell_type": "code",
   "execution_count": 13,
   "id": "14becfab",
   "metadata": {},
   "outputs": [
    {
     "data": {
      "text/markdown": [
       "### Statistical Summary of Numerical Variables"
      ],
      "text/plain": [
       "<IPython.core.display.Markdown object>"
      ]
     },
     "metadata": {},
     "output_type": "display_data"
    },
    {
     "data": {
      "text/html": [
       "<div>\n",
       "<style scoped>\n",
       "    .dataframe tbody tr th:only-of-type {\n",
       "        vertical-align: middle;\n",
       "    }\n",
       "\n",
       "    .dataframe tbody tr th {\n",
       "        vertical-align: top;\n",
       "    }\n",
       "\n",
       "    .dataframe thead th {\n",
       "        text-align: right;\n",
       "    }\n",
       "</style>\n",
       "<table border=\"1\" class=\"dataframe\">\n",
       "  <thead>\n",
       "    <tr style=\"text-align: right;\">\n",
       "      <th></th>\n",
       "      <th>CustomerID</th>\n",
       "      <th>TenureMonths</th>\n",
       "      <th>MonthlyCharge</th>\n",
       "      <th>Churn</th>\n",
       "    </tr>\n",
       "  </thead>\n",
       "  <tbody>\n",
       "    <tr>\n",
       "      <th>count</th>\n",
       "      <td>2000.0000</td>\n",
       "      <td>2000.0000</td>\n",
       "      <td>2000.0000</td>\n",
       "      <td>2000.0000</td>\n",
       "    </tr>\n",
       "    <tr>\n",
       "      <th>mean</th>\n",
       "      <td>1000.5000</td>\n",
       "      <td>35.6825</td>\n",
       "      <td>75.3201</td>\n",
       "      <td>0.5655</td>\n",
       "    </tr>\n",
       "    <tr>\n",
       "      <th>std</th>\n",
       "      <td>577.4946</td>\n",
       "      <td>20.8430</td>\n",
       "      <td>27.5079</td>\n",
       "      <td>0.4958</td>\n",
       "    </tr>\n",
       "    <tr>\n",
       "      <th>min</th>\n",
       "      <td>1.0000</td>\n",
       "      <td>1.0000</td>\n",
       "      <td>24.9216</td>\n",
       "      <td>0.0000</td>\n",
       "    </tr>\n",
       "    <tr>\n",
       "      <th>25%</th>\n",
       "      <td>500.7500</td>\n",
       "      <td>17.0000</td>\n",
       "      <td>45.0201</td>\n",
       "      <td>0.0000</td>\n",
       "    </tr>\n",
       "    <tr>\n",
       "      <th>50%</th>\n",
       "      <td>1000.5000</td>\n",
       "      <td>35.0000</td>\n",
       "      <td>90.6543</td>\n",
       "      <td>1.0000</td>\n",
       "    </tr>\n",
       "    <tr>\n",
       "      <th>75%</th>\n",
       "      <td>1500.2500</td>\n",
       "      <td>54.0000</td>\n",
       "      <td>98.5286</td>\n",
       "      <td>1.0000</td>\n",
       "    </tr>\n",
       "    <tr>\n",
       "      <th>max</th>\n",
       "      <td>2000.0000</td>\n",
       "      <td>72.0000</td>\n",
       "      <td>119.2712</td>\n",
       "      <td>1.0000</td>\n",
       "    </tr>\n",
       "  </tbody>\n",
       "</table>\n",
       "</div>"
      ],
      "text/plain": [
       "       CustomerID  TenureMonths  MonthlyCharge     Churn\n",
       "count   2000.0000     2000.0000      2000.0000 2000.0000\n",
       "mean    1000.5000       35.6825        75.3201    0.5655\n",
       "std      577.4946       20.8430        27.5079    0.4958\n",
       "min        1.0000        1.0000        24.9216    0.0000\n",
       "25%      500.7500       17.0000        45.0201    0.0000\n",
       "50%     1000.5000       35.0000        90.6543    1.0000\n",
       "75%     1500.2500       54.0000        98.5286    1.0000\n",
       "max     2000.0000       72.0000       119.2712    1.0000"
      ]
     },
     "metadata": {},
     "output_type": "display_data"
    }
   ],
   "source": [
    "# Summary Statistical  of Numerical Variables\n",
    "display(Markdown(\"### Statistical Summary of Numerical Variables\"))\n",
    "display(df_churn.describe())"
   ]
  },
  {
   "cell_type": "markdown",
   "id": "e039dd9e",
   "metadata": {},
   "source": [
    "## 4.1 Summary Statistics of Categorical Variables"
   ]
  },
  {
   "cell_type": "code",
   "execution_count": 14,
   "id": "027140a3",
   "metadata": {},
   "outputs": [
    {
     "data": {
      "text/markdown": [
       "### Summary Statistics of Categorical Variables"
      ],
      "text/plain": [
       "<IPython.core.display.Markdown object>"
      ]
     },
     "metadata": {},
     "output_type": "display_data"
    },
    {
     "data": {
      "text/html": [
       "<div>\n",
       "<style scoped>\n",
       "    .dataframe tbody tr th:only-of-type {\n",
       "        vertical-align: middle;\n",
       "    }\n",
       "\n",
       "    .dataframe tbody tr th {\n",
       "        vertical-align: top;\n",
       "    }\n",
       "\n",
       "    .dataframe thead th {\n",
       "        text-align: right;\n",
       "    }\n",
       "</style>\n",
       "<table border=\"1\" class=\"dataframe\">\n",
       "  <thead>\n",
       "    <tr style=\"text-align: right;\">\n",
       "      <th></th>\n",
       "      <th>ContractType</th>\n",
       "      <th>InternetService</th>\n",
       "    </tr>\n",
       "  </thead>\n",
       "  <tbody>\n",
       "    <tr>\n",
       "      <th>count</th>\n",
       "      <td>2000</td>\n",
       "      <td>2000</td>\n",
       "    </tr>\n",
       "    <tr>\n",
       "      <th>unique</th>\n",
       "      <td>3</td>\n",
       "      <td>3</td>\n",
       "    </tr>\n",
       "    <tr>\n",
       "      <th>top</th>\n",
       "      <td>Monthly</td>\n",
       "      <td>Fiber Optics</td>\n",
       "    </tr>\n",
       "    <tr>\n",
       "      <th>freq</th>\n",
       "      <td>1186</td>\n",
       "      <td>1114</td>\n",
       "    </tr>\n",
       "  </tbody>\n",
       "</table>\n",
       "</div>"
      ],
      "text/plain": [
       "       ContractType InternetService\n",
       "count          2000            2000\n",
       "unique            3               3\n",
       "top         Monthly    Fiber Optics\n",
       "freq           1186            1114"
      ]
     },
     "metadata": {},
     "output_type": "display_data"
    }
   ],
   "source": [
    "# Summary Statistics of Categorical Variables\n",
    "display(Markdown(\"### Summary Statistics of Categorical Variables\"))\n",
    "display(df_churn.describe(include=['object']))"
   ]
  },
  {
   "cell_type": "markdown",
   "id": "fa43ab7d",
   "metadata": {},
   "source": [
    "## 4.2 Overall Churn Rate Chart"
   ]
  },
  {
   "cell_type": "code",
   "execution_count": 15,
   "id": "ffeb35e4",
   "metadata": {},
   "outputs": [
    {
     "data": {
      "image/png": "[encoded data removed]",
      "text/plain": [
       "<Figure size 600x600 with 1 Axes>"
      ]
     },
     "metadata": {},
     "output_type": "display_data"
    }
   ],
   "source": [
    "# Counts the values ​​in the 'Churn' column\n",
    "churn_counts = df_churn['Churn'].value_counts().rename(index={1: 'Yes', 0: 'No'})\n",
    "\n",
    "# Sets the colors equivalent to the original graph\n",
    "colors = ['#636EFA', '#EF553B']\n",
    "\n",
    "# Creates the pie chart with two decimal places\n",
    "plt.figure(figsize=(6, 6))\n",
    "plt.pie(\n",
    "    churn_counts.values,\n",
    "    labels=churn_counts.index,\n",
    "    autopct='%1.2f%%',          # show percentage with 2 decimal places\n",
    "    startangle=140,             # initial angle to rotate the graph\n",
    "    colors=colors,\n",
    "    explode=[0.05 if label == 'Yes' else 0 for label in churn_counts.index]  # highlights the \"Yes\" slice\n",
    ")\n",
    "plt.title('Overall Churn Rate', fontsize=14)\n",
    "plt.show()"
   ]
  },
  {
   "cell_type": "code",
   "execution_count": 16,
   "id": "b8c0ac58",
   "metadata": {},
   "outputs": [],
   "source": [
    "import plotly.io as pio\n",
    "pio.renderers.default = \"browser\""
   ]
  },
  {
   "cell_type": "code",
   "execution_count": 17,
   "id": "99e41a9b",
   "metadata": {},
   "outputs": [],
   "source": [
    "# Calculate count by category\n",
    "churn_counts = df_churn['Churn'].value_counts()\n",
    "\n",
    "# Create the graph\n",
    "fig_pie = px.pie(\n",
    "    values=churn_counts.values,\n",
    "    names=churn_counts.index.map({1: 'Yes', 0: 'No'}),  # rename the categories\n",
    "    title='Overall Churn Rate',\n",
    "    color=churn_counts.index.map({1: 'Yes', 0: 'No'}),  # use the same categories for color\n",
    "    color_discrete_map={'Yes': '#EF553B', 'No': '#636EFA'}  # define manual colors\n",
    ")\n",
    "\n",
    "# Show the chart\n",
    "fig_pie.show()\n"
   ]
  },
  {
   "cell_type": "code",
   "execution_count": 18,
   "id": "12dbd1e9",
   "metadata": {},
   "outputs": [
    {
     "data": {
      "text/markdown": [
       "\n",
       "The average churn rate in our database is  56.550000%.\n",
       "This is our main indicator to analyze.\n"
      ],
      "text/plain": [
       "<IPython.core.display.Markdown object>"
      ]
     },
     "metadata": {},
     "output_type": "display_data"
    }
   ],
   "source": [
    "# Calculate the churn rate\n",
    "churn_counts = df_churn['Churn'].value_counts()\n",
    "numerador = churn_counts.get(1, churn_counts.get('Yes', churn_counts.get(True, 0)))\n",
    "taxa = 100 * numerador / len(df_churn) \n",
    "\n",
    "display(Markdown(f\"\"\"\n",
    "The average churn rate in our database is {taxa: 2f}%.\n",
    "This is our main indicator to analyze.\n",
    "\"\"\"))"
   ]
  },
  {
   "cell_type": "markdown",
   "id": "0d215500",
   "metadata": {},
   "source": [
    "## 4.3 Graph by Churn Rate by Type of Contract"
   ]
  },
  {
   "cell_type": "code",
   "execution_count": 19,
   "id": "bcdf4da1",
   "metadata": {},
   "outputs": [
    {
     "data": {
      "image/png": "[encoded data removed]",
      "text/plain": [
       "<Figure size 1200x400 with 1 Axes>"
      ]
     },
     "metadata": {},
     "output_type": "display_data"
    }
   ],
   "source": [
    "# Graphic -- static version\n",
    "plt.figure(figsize=(12, 4))\n",
    "\n",
    "# Creates the grouped bar chart with Seaborn\n",
    "sns.countplot(data=df_churn,\n",
    "              x='ContractType',\n",
    "              hue='Churn',\n",
    "              palette={0: '#636EFA', 1: '#EF553B'})\n",
    "\n",
    "plt.title('Churn Rate by Contract Type', fontsize=14)\n",
    "plt.xlabel('\\nContract Type')\n",
    "plt.ylabel('Number of Customers')\n",
    "plt.legend(title='Churn (0=No, 1=Yes)')\n",
    "plt.xticks(rotation=0)\n",
    "plt.tight_layout()\n",
    "plt.show()"
   ]
  },
  {
   "cell_type": "markdown",
   "id": "d20e8d62",
   "metadata": {},
   "source": [
    "# The chance to a monthly contract churn is bigger than the other two."
   ]
  },
  {
   "cell_type": "code",
   "execution_count": 20,
   "id": "f91a895f",
   "metadata": {},
   "outputs": [],
   "source": [
    "# Graphic – Interactive Version\n",
    "\n",
    "# Histogram\n",
    "fig_bar_contract = px.histogram(df_churn,\n",
    "                                x='ContractType',\n",
    "                                color='Churn',\n",
    "                                barmode='group',\n",
    "                                title='Churn Rate by Contract Type',\n",
    "                                labels={'ContractType': 'Contract Type','Churn': 'Churn (0=No, 1=Yes)'})\n",
    "fig_bar_contract.show()"
   ]
  },
  {
   "cell_type": "markdown",
   "id": "5c746e1f",
   "metadata": {},
   "source": [
    "display(Markdown(\"\"\"\n",
    "**Insight:** The visualization is clear: customers with **monthly contracts** have a drastically higher churn tendency compared to customers with longer contracts.\n",
    "\"\"\"))\n"
   ]
  },
  {
   "cell_type": "markdown",
   "id": "326f648c",
   "metadata": {},
   "source": [
    "## 4.4 Interactive Plotly Chart (Tenure vs Churn)"
   ]
  },
  {
   "cell_type": "code",
   "execution_count": 21,
   "id": "3bec8c71",
   "metadata": {},
   "outputs": [],
   "source": [
    "# Graphic – Interactive Version\n",
    "\n",
    "# Analysis by Tenure (Loyalty)\n",
    "dsa_fig_hist_tenure = px.histogram(df_churn,\n",
    "                                x='TenureMonths',\n",
    "                                color='Churn',\n",
    "                                marginal='box',\n",
    "                                title='Tenure (in Months) Distribution by Churn',\n",
    "                                labels={'TenureMonths': 'Tenure (Months)', 'Churn': 'Churn (0=No, 1=Yes)'})\n",
    "\n",
    "dsa_fig_hist_tenure.show()"
   ]
  },
  {
   "cell_type": "code",
   "execution_count": 22,
   "id": "da724487",
   "metadata": {},
   "outputs": [
    {
     "data": {
      "text/markdown": [
       "\n",
       "**Insight:** Customers who cancel the service (**Churn = 1**) are more concentrated in the first months of their contract.  \n",
       "The median tenure for customers who churn is much lower than for those who stay.  \n",
       "This indicates that the beginning of the customer journey is a critical period for retention.\n"
      ],
      "text/plain": [
       "<IPython.core.display.Markdown object>"
      ]
     },
     "metadata": {},
     "output_type": "display_data"
    }
   ],
   "source": [
    "display(Markdown(\"\"\"\n",
    "**Insight:** Customers who cancel the service (**Churn = 1**) are more concentrated in the first months of their contract.  \n",
    "The median tenure for customers who churn is much lower than for those who stay.  \n",
    "This indicates that the beginning of the customer journey is a critical period for retention.\n",
    "\"\"\"))"
   ]
  },
  {
   "cell_type": "code",
   "execution_count": 23,
   "id": "da164dd8",
   "metadata": {},
   "outputs": [],
   "source": [
    "# Graphic – Interactive Version\n",
    "# Analysis by Monthly Charges\n",
    "fig_hist_monthly_charges = px.histogram(df_churn,\n",
    "                                        x='MonthlyCharge',\n",
    "                                        color='Churn',\n",
    "                                        marginal='box',\n",
    "                                        title='Distribution of Monthly Charges by Churn',\n",
    "                                        labels={'MonthlyCharge': 'Monthly Charges Value($)'})\n",
    "\n",
    "fig_hist_monthly_charges.show()"
   ]
  },
  {
   "cell_type": "code",
   "execution_count": 24,
   "id": "071a18bd",
   "metadata": {},
   "outputs": [
    {
     "data": {
      "text/markdown": [
       "\n",
       "**Insight:** Customers with higher monthly charges tend to have a higher churn rate.  \n",
       "The median monthly charge value for customers who churned is noticeably higher than for those who stayed.\n"
      ],
      "text/plain": [
       "<IPython.core.display.Markdown object>"
      ]
     },
     "metadata": {},
     "output_type": "display_data"
    }
   ],
   "source": [
    "display(Markdown(\"\"\"\n",
    "**Insight:** Customers with higher monthly charges tend to have a higher churn rate.  \n",
    "The median monthly charge value for customers who churned is noticeably higher than for those who stayed.\n",
    "\"\"\"))"
   ]
  },
  {
   "cell_type": "markdown",
   "id": "067eeb0f",
   "metadata": {},
   "source": [
    "### 5. Data Preparation for Statistical Modeling"
   ]
  },
  {
   "cell_type": "code",
   "execution_count": 25,
   "id": "1e902938",
   "metadata": {},
   "outputs": [
    {
     "data": {
      "text/html": [
       "<div>\n",
       "<style scoped>\n",
       "    .dataframe tbody tr th:only-of-type {\n",
       "        vertical-align: middle;\n",
       "    }\n",
       "\n",
       "    .dataframe tbody tr th {\n",
       "        vertical-align: top;\n",
       "    }\n",
       "\n",
       "    .dataframe thead th {\n",
       "        text-align: right;\n",
       "    }\n",
       "</style>\n",
       "<table border=\"1\" class=\"dataframe\">\n",
       "  <thead>\n",
       "    <tr style=\"text-align: right;\">\n",
       "      <th></th>\n",
       "      <th>CustomerID</th>\n",
       "      <th>TenureMonths</th>\n",
       "      <th>ContractType</th>\n",
       "      <th>InternetService</th>\n",
       "      <th>MonthlyCharge</th>\n",
       "      <th>Churn</th>\n",
       "    </tr>\n",
       "  </thead>\n",
       "  <tbody>\n",
       "    <tr>\n",
       "      <th>0</th>\n",
       "      <td>1</td>\n",
       "      <td>52</td>\n",
       "      <td>Annual</td>\n",
       "      <td>Fiber Optics</td>\n",
       "      <td>36.5724</td>\n",
       "      <td>0</td>\n",
       "    </tr>\n",
       "    <tr>\n",
       "      <th>1</th>\n",
       "      <td>2</td>\n",
       "      <td>15</td>\n",
       "      <td>Two years</td>\n",
       "      <td>Fiber Optics</td>\n",
       "      <td>45.2871</td>\n",
       "      <td>0</td>\n",
       "    </tr>\n",
       "    <tr>\n",
       "      <th>2</th>\n",
       "      <td>3</td>\n",
       "      <td>72</td>\n",
       "      <td>Monthly</td>\n",
       "      <td>Fiber Optics</td>\n",
       "      <td>101.0033</td>\n",
       "      <td>1</td>\n",
       "    </tr>\n",
       "    <tr>\n",
       "      <th>3</th>\n",
       "      <td>4</td>\n",
       "      <td>61</td>\n",
       "      <td>Monthly</td>\n",
       "      <td>Fiber Optics</td>\n",
       "      <td>103.3314</td>\n",
       "      <td>1</td>\n",
       "    </tr>\n",
       "    <tr>\n",
       "      <th>4</th>\n",
       "      <td>5</td>\n",
       "      <td>21</td>\n",
       "      <td>Monthly</td>\n",
       "      <td>DSL</td>\n",
       "      <td>94.0969</td>\n",
       "      <td>1</td>\n",
       "    </tr>\n",
       "  </tbody>\n",
       "</table>\n",
       "</div>"
      ],
      "text/plain": [
       "   CustomerID  TenureMonths ContractType InternetService  MonthlyCharge  Churn\n",
       "0           1            52       Annual    Fiber Optics        36.5724      0\n",
       "1           2            15    Two years    Fiber Optics        45.2871      0\n",
       "2           3            72      Monthly    Fiber Optics       101.0033      1\n",
       "3           4            61      Monthly    Fiber Optics       103.3314      1\n",
       "4           5            21      Monthly             DSL        94.0969      1"
      ]
     },
     "metadata": {},
     "output_type": "display_data"
    }
   ],
   "source": [
    "# Original Data\n",
    "display(df_churn.head())"
   ]
  },
  {
   "cell_type": "code",
   "execution_count": 26,
   "id": "41128356",
   "metadata": {},
   "outputs": [
    {
     "data": {
      "text/plain": [
       "ContractType\n",
       "Monthly      1186\n",
       "Annual        533\n",
       "Two years     281\n",
       "Name: count, dtype: int64"
      ]
     },
     "execution_count": 26,
     "metadata": {},
     "output_type": "execute_result"
    }
   ],
   "source": [
    "# Variable Categories\n",
    "df_churn.ContractType.value_counts()"
   ]
  },
  {
   "cell_type": "code",
   "execution_count": 27,
   "id": "555b5104",
   "metadata": {},
   "outputs": [
    {
     "data": {
      "text/plain": [
       "InternetService\n",
       "Fiber Optics    1114\n",
       "DSL              690\n",
       "No               196\n",
       "Name: count, dtype: int64"
      ]
     },
     "execution_count": 27,
     "metadata": {},
     "output_type": "execute_result"
    }
   ],
   "source": [
    "# Variable Categories\n",
    "df_churn.InternetService.value_counts()"
   ]
  },
  {
   "cell_type": "code",
   "execution_count": 28,
   "id": "f7028289",
   "metadata": {},
   "outputs": [],
   "source": [
    "# Preparation\n",
    "# Convert categorical variables to dummy variables (0 or 1)\n",
    "# Added the dtype=int parameter to ensure that the new columns are numeric\n",
    "df_model = pd.get_dummies( df_churn, columns=['ContractType', 'InternetService'], drop_first=True, dtype=int)"
   ]
  },
  {
   "cell_type": "markdown",
   "id": "32b3c81b",
   "metadata": {},
   "source": [
    "Dummy variables (or indicator variables) are numerical variables created to represent categories in statistical or machine learning models.\n",
    "They transform qualitative data (such as \"gender,\" \"marital status,\" \"region\") into numerical values ​​(usually 0 and 1), allowing mathematical algorithms to process them.\n",
    "This technique is called One-Hot Encoding."
   ]
  },
  {
   "cell_type": "code",
   "execution_count": 29,
   "id": "117ed090",
   "metadata": {},
   "outputs": [
    {
     "data": {
      "text/html": [
       "<div>\n",
       "<style scoped>\n",
       "    .dataframe tbody tr th:only-of-type {\n",
       "        vertical-align: middle;\n",
       "    }\n",
       "\n",
       "    .dataframe tbody tr th {\n",
       "        vertical-align: top;\n",
       "    }\n",
       "\n",
       "    .dataframe thead th {\n",
       "        text-align: right;\n",
       "    }\n",
       "</style>\n",
       "<table border=\"1\" class=\"dataframe\">\n",
       "  <thead>\n",
       "    <tr style=\"text-align: right;\">\n",
       "      <th></th>\n",
       "      <th>CustomerID</th>\n",
       "      <th>TenureMonths</th>\n",
       "      <th>ContractType</th>\n",
       "      <th>InternetService</th>\n",
       "      <th>MonthlyCharge</th>\n",
       "      <th>Churn</th>\n",
       "    </tr>\n",
       "  </thead>\n",
       "  <tbody>\n",
       "    <tr>\n",
       "      <th>0</th>\n",
       "      <td>1</td>\n",
       "      <td>52</td>\n",
       "      <td>Annual</td>\n",
       "      <td>Fiber Optics</td>\n",
       "      <td>36.5724</td>\n",
       "      <td>0</td>\n",
       "    </tr>\n",
       "    <tr>\n",
       "      <th>1</th>\n",
       "      <td>2</td>\n",
       "      <td>15</td>\n",
       "      <td>Two years</td>\n",
       "      <td>Fiber Optics</td>\n",
       "      <td>45.2871</td>\n",
       "      <td>0</td>\n",
       "    </tr>\n",
       "    <tr>\n",
       "      <th>2</th>\n",
       "      <td>3</td>\n",
       "      <td>72</td>\n",
       "      <td>Monthly</td>\n",
       "      <td>Fiber Optics</td>\n",
       "      <td>101.0033</td>\n",
       "      <td>1</td>\n",
       "    </tr>\n",
       "    <tr>\n",
       "      <th>3</th>\n",
       "      <td>4</td>\n",
       "      <td>61</td>\n",
       "      <td>Monthly</td>\n",
       "      <td>Fiber Optics</td>\n",
       "      <td>103.3314</td>\n",
       "      <td>1</td>\n",
       "    </tr>\n",
       "    <tr>\n",
       "      <th>4</th>\n",
       "      <td>5</td>\n",
       "      <td>21</td>\n",
       "      <td>Monthly</td>\n",
       "      <td>DSL</td>\n",
       "      <td>94.0969</td>\n",
       "      <td>1</td>\n",
       "    </tr>\n",
       "  </tbody>\n",
       "</table>\n",
       "</div>"
      ],
      "text/plain": [
       "   CustomerID  TenureMonths ContractType InternetService  MonthlyCharge  Churn\n",
       "0           1            52       Annual    Fiber Optics        36.5724      0\n",
       "1           2            15    Two years    Fiber Optics        45.2871      0\n",
       "2           3            72      Monthly    Fiber Optics       101.0033      1\n",
       "3           4            61      Monthly    Fiber Optics       103.3314      1\n",
       "4           5            21      Monthly             DSL        94.0969      1"
      ]
     },
     "execution_count": 29,
     "metadata": {},
     "output_type": "execute_result"
    }
   ],
   "source": [
    "# Original data\n",
    "df_churn.head()"
   ]
  },
  {
   "cell_type": "code",
   "execution_count": 30,
   "id": "a2d8023a",
   "metadata": {},
   "outputs": [
    {
     "data": {
      "text/html": [
       "<div>\n",
       "<style scoped>\n",
       "    .dataframe tbody tr th:only-of-type {\n",
       "        vertical-align: middle;\n",
       "    }\n",
       "\n",
       "    .dataframe tbody tr th {\n",
       "        vertical-align: top;\n",
       "    }\n",
       "\n",
       "    .dataframe thead th {\n",
       "        text-align: right;\n",
       "    }\n",
       "</style>\n",
       "<table border=\"1\" class=\"dataframe\">\n",
       "  <thead>\n",
       "    <tr style=\"text-align: right;\">\n",
       "      <th></th>\n",
       "      <th>CustomerID</th>\n",
       "      <th>TenureMonths</th>\n",
       "      <th>MonthlyCharge</th>\n",
       "      <th>Churn</th>\n",
       "      <th>ContractType_Monthly</th>\n",
       "      <th>ContractType_Two years</th>\n",
       "      <th>InternetService_Fiber Optics</th>\n",
       "      <th>InternetService_No</th>\n",
       "    </tr>\n",
       "  </thead>\n",
       "  <tbody>\n",
       "    <tr>\n",
       "      <th>0</th>\n",
       "      <td>1</td>\n",
       "      <td>52</td>\n",
       "      <td>36.5724</td>\n",
       "      <td>0</td>\n",
       "      <td>0</td>\n",
       "      <td>0</td>\n",
       "      <td>1</td>\n",
       "      <td>0</td>\n",
       "    </tr>\n",
       "    <tr>\n",
       "      <th>1</th>\n",
       "      <td>2</td>\n",
       "      <td>15</td>\n",
       "      <td>45.2871</td>\n",
       "      <td>0</td>\n",
       "      <td>0</td>\n",
       "      <td>1</td>\n",
       "      <td>1</td>\n",
       "      <td>0</td>\n",
       "    </tr>\n",
       "    <tr>\n",
       "      <th>2</th>\n",
       "      <td>3</td>\n",
       "      <td>72</td>\n",
       "      <td>101.0033</td>\n",
       "      <td>1</td>\n",
       "      <td>1</td>\n",
       "      <td>0</td>\n",
       "      <td>1</td>\n",
       "      <td>0</td>\n",
       "    </tr>\n",
       "    <tr>\n",
       "      <th>3</th>\n",
       "      <td>4</td>\n",
       "      <td>61</td>\n",
       "      <td>103.3314</td>\n",
       "      <td>1</td>\n",
       "      <td>1</td>\n",
       "      <td>0</td>\n",
       "      <td>1</td>\n",
       "      <td>0</td>\n",
       "    </tr>\n",
       "    <tr>\n",
       "      <th>4</th>\n",
       "      <td>5</td>\n",
       "      <td>21</td>\n",
       "      <td>94.0969</td>\n",
       "      <td>1</td>\n",
       "      <td>1</td>\n",
       "      <td>0</td>\n",
       "      <td>0</td>\n",
       "      <td>0</td>\n",
       "    </tr>\n",
       "  </tbody>\n",
       "</table>\n",
       "</div>"
      ],
      "text/plain": [
       "   CustomerID  TenureMonths  MonthlyCharge  Churn  ContractType_Monthly  \\\n",
       "0           1            52        36.5724      0                     0   \n",
       "1           2            15        45.2871      0                     0   \n",
       "2           3            72       101.0033      1                     1   \n",
       "3           4            61       103.3314      1                     1   \n",
       "4           5            21        94.0969      1                     1   \n",
       "\n",
       "   ContractType_Two years  InternetService_Fiber Optics  InternetService_No  \n",
       "0                       0                             1                   0  \n",
       "1                       1                             1                   0  \n",
       "2                       0                             1                   0  \n",
       "3                       0                             1                   0  \n",
       "4                       0                             0                   0  "
      ]
     },
     "execution_count": 30,
     "metadata": {},
     "output_type": "execute_result"
    }
   ],
   "source": [
    "# Processed Data\n",
    "df_model.head()"
   ]
  },
  {
   "cell_type": "code",
   "execution_count": 31,
   "id": "17ba7ce9",
   "metadata": {},
   "outputs": [
    {
     "name": "stdout",
     "output_type": "stream",
     "text": [
      "<class 'pandas.core.frame.DataFrame'>\n",
      "RangeIndex: 2000 entries, 0 to 1999\n",
      "Data columns (total 8 columns):\n",
      " #   Column                        Non-Null Count  Dtype  \n",
      "---  ------                        --------------  -----  \n",
      " 0   CustomerID                    2000 non-null   int64  \n",
      " 1   TenureMonths                  2000 non-null   int32  \n",
      " 2   MonthlyCharge                 2000 non-null   float64\n",
      " 3   Churn                         2000 non-null   int32  \n",
      " 4   ContractType_Monthly          2000 non-null   int64  \n",
      " 5   ContractType_Two years        2000 non-null   int64  \n",
      " 6   InternetService_Fiber Optics  2000 non-null   int64  \n",
      " 7   InternetService_No            2000 non-null   int64  \n",
      "dtypes: float64(1), int32(2), int64(5)\n",
      "memory usage: 109.5 KB\n"
     ]
    }
   ],
   "source": [
    "# Data summary\n",
    "df_model.info()"
   ]
  },
  {
   "cell_type": "code",
   "execution_count": 32,
   "id": "50426a3a",
   "metadata": {},
   "outputs": [],
   "source": [
    "# Define the variables\n",
    "# Dependent variable (what we want to predict)\n",
    "y = df_model['Churn']"
   ]
  },
  {
   "cell_type": "code",
   "execution_count": 33,
   "id": "1a89f440",
   "metadata": {},
   "outputs": [],
   "source": [
    "# Independent variables (the ones we use to predict)\n",
    "# We exclude the customer ID and the original target variable\n",
    "X = df_model.drop(['CustomerID', 'Churn'], axis=1)"
   ]
  },
  {
   "cell_type": "code",
   "execution_count": 34,
   "id": "46af287c",
   "metadata": {},
   "outputs": [],
   "source": [
    "# Add a constant (intercept) to the model, required by the statsmodels library\n",
    "X = sm.add_constant(X)"
   ]
  },
  {
   "cell_type": "code",
   "execution_count": 35,
   "id": "1d418a09",
   "metadata": {},
   "outputs": [
    {
     "data": {
      "text/markdown": [
       "Add a constant (intercept) to the model, required by the statsmodels library"
      ],
      "text/plain": [
       "<IPython.core.display.Markdown object>"
      ]
     },
     "metadata": {},
     "output_type": "display_data"
    },
    {
     "data": {
      "text/html": [
       "<div>\n",
       "<style scoped>\n",
       "    .dataframe tbody tr th:only-of-type {\n",
       "        vertical-align: middle;\n",
       "    }\n",
       "\n",
       "    .dataframe tbody tr th {\n",
       "        vertical-align: top;\n",
       "    }\n",
       "\n",
       "    .dataframe thead th {\n",
       "        text-align: right;\n",
       "    }\n",
       "</style>\n",
       "<table border=\"1\" class=\"dataframe\">\n",
       "  <thead>\n",
       "    <tr style=\"text-align: right;\">\n",
       "      <th></th>\n",
       "      <th>const</th>\n",
       "      <th>TenureMonths</th>\n",
       "      <th>MonthlyCharge</th>\n",
       "      <th>ContractType_Monthly</th>\n",
       "      <th>ContractType_Two years</th>\n",
       "      <th>InternetService_Fiber Optics</th>\n",
       "      <th>InternetService_No</th>\n",
       "    </tr>\n",
       "  </thead>\n",
       "  <tbody>\n",
       "    <tr>\n",
       "      <th>0</th>\n",
       "      <td>1.0000</td>\n",
       "      <td>52</td>\n",
       "      <td>36.5724</td>\n",
       "      <td>0</td>\n",
       "      <td>0</td>\n",
       "      <td>1</td>\n",
       "      <td>0</td>\n",
       "    </tr>\n",
       "    <tr>\n",
       "      <th>1</th>\n",
       "      <td>1.0000</td>\n",
       "      <td>15</td>\n",
       "      <td>45.2871</td>\n",
       "      <td>0</td>\n",
       "      <td>1</td>\n",
       "      <td>1</td>\n",
       "      <td>0</td>\n",
       "    </tr>\n",
       "    <tr>\n",
       "      <th>2</th>\n",
       "      <td>1.0000</td>\n",
       "      <td>72</td>\n",
       "      <td>101.0033</td>\n",
       "      <td>1</td>\n",
       "      <td>0</td>\n",
       "      <td>1</td>\n",
       "      <td>0</td>\n",
       "    </tr>\n",
       "    <tr>\n",
       "      <th>3</th>\n",
       "      <td>1.0000</td>\n",
       "      <td>61</td>\n",
       "      <td>103.3314</td>\n",
       "      <td>1</td>\n",
       "      <td>0</td>\n",
       "      <td>1</td>\n",
       "      <td>0</td>\n",
       "    </tr>\n",
       "    <tr>\n",
       "      <th>4</th>\n",
       "      <td>1.0000</td>\n",
       "      <td>21</td>\n",
       "      <td>94.0969</td>\n",
       "      <td>1</td>\n",
       "      <td>0</td>\n",
       "      <td>0</td>\n",
       "      <td>0</td>\n",
       "    </tr>\n",
       "  </tbody>\n",
       "</table>\n",
       "</div>"
      ],
      "text/plain": [
       "   const  TenureMonths  MonthlyCharge  ContractType_Monthly  \\\n",
       "0 1.0000            52        36.5724                     0   \n",
       "1 1.0000            15        45.2871                     0   \n",
       "2 1.0000            72       101.0033                     1   \n",
       "3 1.0000            61       103.3314                     1   \n",
       "4 1.0000            21        94.0969                     1   \n",
       "\n",
       "   ContractType_Two years  InternetService_Fiber Optics  InternetService_No  \n",
       "0                       0                             1                   0  \n",
       "1                       1                             1                   0  \n",
       "2                       0                             1                   0  \n",
       "3                       0                             1                   0  \n",
       "4                       0                             0                   0  "
      ]
     },
     "metadata": {},
     "output_type": "display_data"
    }
   ],
   "source": [
    "display(Markdown(\"Add a constant (intercept) to the model, required by the statsmodels library\"))\n",
    "display(X.head())"
   ]
  },
  {
   "cell_type": "code",
   "execution_count": 36,
   "id": "d2c19f41",
   "metadata": {},
   "outputs": [
    {
     "data": {
      "text/markdown": [
       "### Sample Data (y) Prepared for the model"
      ],
      "text/plain": [
       "<IPython.core.display.Markdown object>"
      ]
     },
     "metadata": {},
     "output_type": "display_data"
    },
    {
     "data": {
      "text/plain": [
       "0    0\n",
       "1    0\n",
       "2    1\n",
       "3    1\n",
       "4    1\n",
       "Name: Churn, dtype: int32"
      ]
     },
     "metadata": {},
     "output_type": "display_data"
    }
   ],
   "source": [
    "display(Markdown(\"### Sample Data (y) Prepared for the model\"))\n",
    "display(y.head())"
   ]
  },
  {
   "cell_type": "markdown",
   "id": "8495eb72",
   "metadata": {},
   "source": [
    "### 6. Statistical Modeling"
   ]
  },
  {
   "cell_type": "code",
   "execution_count": 38,
   "id": "11818acc",
   "metadata": {},
   "outputs": [
    {
     "data": {
      "text/markdown": [
       "Let's build a model to quantify the impact of each variable on the probability of churn."
      ],
      "text/plain": [
       "<IPython.core.display.Markdown object>"
      ]
     },
     "metadata": {},
     "output_type": "display_data"
    }
   ],
   "source": [
    "display(Markdown(\"Let's build a model to quantify the impact of each variable on the probability of churn.\"))\n",
    "\n",
    "# Create the model\n",
    "model = sm.Logit(y, X)"
   ]
  },
  {
   "cell_type": "code",
   "execution_count": 39,
   "id": "e438f158",
   "metadata": {},
   "outputs": [
    {
     "data": {
      "text/plain": [
       "statsmodels.discrete.discrete_model.Logit"
      ]
     },
     "execution_count": 39,
     "metadata": {},
     "output_type": "execute_result"
    }
   ],
   "source": [
    "type(model)"
   ]
  },
  {
   "cell_type": "code",
   "execution_count": 40,
   "id": "75a709ca",
   "metadata": {},
   "outputs": [
    {
     "name": "stdout",
     "output_type": "stream",
     "text": [
      "Optimization terminated successfully.\n",
      "         Current function value: 0.373673\n",
      "         Iterations 7\n"
     ]
    }
   ],
   "source": [
    "# Train the model\n",
    "trained_model = model.fit()"
   ]
  },
  {
   "cell_type": "code",
   "execution_count": 41,
   "id": "7b6e65bf",
   "metadata": {},
   "outputs": [
    {
     "data": {
      "text/markdown": [
       "### Results of the Logistic Regression Model"
      ],
      "text/plain": [
       "<IPython.core.display.Markdown object>"
      ]
     },
     "metadata": {},
     "output_type": "display_data"
    },
    {
     "data": {
      "text/html": [
       "<table class=\"simpletable\">\n",
       "<caption>Logit Regression Results</caption>\n",
       "<tr>\n",
       "  <th>Dep. Variable:</th>         <td>Churn</td>      <th>  No. Observations:  </th>   <td>  2000</td>  \n",
       "</tr>\n",
       "<tr>\n",
       "  <th>Model:</th>                 <td>Logit</td>      <th>  Df Residuals:      </th>   <td>  1993</td>  \n",
       "</tr>\n",
       "<tr>\n",
       "  <th>Method:</th>                 <td>MLE</td>       <th>  Df Model:          </th>   <td>     6</td>  \n",
       "</tr>\n",
       "<tr>\n",
       "  <th>Date:</th>            <td>Wed, 22 Oct 2025</td> <th>  Pseudo R-squ.:     </th>   <td>0.4541</td>  \n",
       "</tr>\n",
       "<tr>\n",
       "  <th>Time:</th>                <td>13:46:45</td>     <th>  Log-Likelihood:    </th>  <td> -747.35</td> \n",
       "</tr>\n",
       "<tr>\n",
       "  <th>converged:</th>             <td>True</td>       <th>  LL-Null:           </th>  <td> -1369.1</td> \n",
       "</tr>\n",
       "<tr>\n",
       "  <th>Covariance Type:</th>     <td>nonrobust</td>    <th>  LLR p-value:       </th> <td>1.861e-265</td>\n",
       "</tr>\n",
       "</table>\n",
       "<table class=\"simpletable\">\n",
       "<tr>\n",
       "                <td></td>                  <th>coef</th>     <th>std err</th>      <th>z</th>      <th>P>|z|</th>  <th>[0.025</th>    <th>0.975]</th>  \n",
       "</tr>\n",
       "<tr>\n",
       "  <th>const</th>                        <td>   -1.6644</td> <td>    0.488</td> <td>   -3.411</td> <td> 0.001</td> <td>   -2.621</td> <td>   -0.708</td>\n",
       "</tr>\n",
       "<tr>\n",
       "  <th>TenureMonths</th>                 <td>   -0.0550</td> <td>    0.004</td> <td>  -12.234</td> <td> 0.000</td> <td>   -0.064</td> <td>   -0.046</td>\n",
       "</tr>\n",
       "<tr>\n",
       "  <th>MonthlyCharge</th>                <td>    0.0310</td> <td>    0.013</td> <td>    2.455</td> <td> 0.014</td> <td>    0.006</td> <td>    0.056</td>\n",
       "</tr>\n",
       "<tr>\n",
       "  <th>ContractType_Monthly</th>         <td>    1.8077</td> <td>    0.694</td> <td>    2.604</td> <td> 0.009</td> <td>    0.447</td> <td>    3.169</td>\n",
       "</tr>\n",
       "<tr>\n",
       "  <th>ContractType_Two years</th>       <td>   -1.8050</td> <td>    0.284</td> <td>   -6.354</td> <td> 0.000</td> <td>   -2.362</td> <td>   -1.248</td>\n",
       "</tr>\n",
       "<tr>\n",
       "  <th>InternetService_Fiber Optics</th> <td>    1.3669</td> <td>    0.147</td> <td>    9.280</td> <td> 0.000</td> <td>    1.078</td> <td>    1.656</td>\n",
       "</tr>\n",
       "<tr>\n",
       "  <th>InternetService_No</th>           <td>    0.5421</td> <td>    0.235</td> <td>    2.305</td> <td> 0.021</td> <td>    0.081</td> <td>    1.003</td>\n",
       "</tr>\n",
       "</table>"
      ],
      "text/latex": [
       "\\begin{center}\n",
       "\\begin{tabular}{lclc}\n",
       "\\toprule\n",
       "\\textbf{Dep. Variable:}                &      Churn       & \\textbf{  No. Observations:  } &     2000    \\\\\n",
       "\\textbf{Model:}                        &      Logit       & \\textbf{  Df Residuals:      } &     1993    \\\\\n",
       "\\textbf{Method:}                       &       MLE        & \\textbf{  Df Model:          } &        6    \\\\\n",
       "\\textbf{Date:}                         & Wed, 22 Oct 2025 & \\textbf{  Pseudo R-squ.:     } &   0.4541    \\\\\n",
       "\\textbf{Time:}                         &     13:46:45     & \\textbf{  Log-Likelihood:    } &   -747.35   \\\\\n",
       "\\textbf{converged:}                    &       True       & \\textbf{  LL-Null:           } &   -1369.1   \\\\\n",
       "\\textbf{Covariance Type:}              &    nonrobust     & \\textbf{  LLR p-value:       } & 1.861e-265  \\\\\n",
       "\\bottomrule\n",
       "\\end{tabular}\n",
       "\\begin{tabular}{lcccccc}\n",
       "                                       & \\textbf{coef} & \\textbf{std err} & \\textbf{z} & \\textbf{P$> |$z$|$} & \\textbf{[0.025} & \\textbf{0.975]}  \\\\\n",
       "\\midrule\n",
       "\\textbf{const}                         &      -1.6644  &        0.488     &    -3.411  &         0.001        &       -2.621    &       -0.708     \\\\\n",
       "\\textbf{TenureMonths}                  &      -0.0550  &        0.004     &   -12.234  &         0.000        &       -0.064    &       -0.046     \\\\\n",
       "\\textbf{MonthlyCharge}                 &       0.0310  &        0.013     &     2.455  &         0.014        &        0.006    &        0.056     \\\\\n",
       "\\textbf{ContractType\\_Monthly}         &       1.8077  &        0.694     &     2.604  &         0.009        &        0.447    &        3.169     \\\\\n",
       "\\textbf{ContractType\\_Two years}       &      -1.8050  &        0.284     &    -6.354  &         0.000        &       -2.362    &       -1.248     \\\\\n",
       "\\textbf{InternetService\\_Fiber Optics} &       1.3669  &        0.147     &     9.280  &         0.000        &        1.078    &        1.656     \\\\\n",
       "\\textbf{InternetService\\_No}           &       0.5421  &        0.235     &     2.305  &         0.021        &        0.081    &        1.003     \\\\\n",
       "\\bottomrule\n",
       "\\end{tabular}\n",
       "%\\caption{Logit Regression Results}\n",
       "\\end{center}"
      ],
      "text/plain": [
       "<class 'statsmodels.iolib.summary.Summary'>\n",
       "\"\"\"\n",
       "                           Logit Regression Results                           \n",
       "==============================================================================\n",
       "Dep. Variable:                  Churn   No. Observations:                 2000\n",
       "Model:                          Logit   Df Residuals:                     1993\n",
       "Method:                           MLE   Df Model:                            6\n",
       "Date:                Wed, 22 Oct 2025   Pseudo R-squ.:                  0.4541\n",
       "Time:                        13:46:45   Log-Likelihood:                -747.35\n",
       "converged:                       True   LL-Null:                       -1369.1\n",
       "Covariance Type:            nonrobust   LLR p-value:                1.861e-265\n",
       "================================================================================================\n",
       "                                   coef    std err          z      P>|z|      [0.025      0.975]\n",
       "------------------------------------------------------------------------------------------------\n",
       "const                           -1.6644      0.488     -3.411      0.001      -2.621      -0.708\n",
       "TenureMonths                    -0.0550      0.004    -12.234      0.000      -0.064      -0.046\n",
       "MonthlyCharge                    0.0310      0.013      2.455      0.014       0.006       0.056\n",
       "ContractType_Monthly             1.8077      0.694      2.604      0.009       0.447       3.169\n",
       "ContractType_Two years          -1.8050      0.284     -6.354      0.000      -2.362      -1.248\n",
       "InternetService_Fiber Optics     1.3669      0.147      9.280      0.000       1.078       1.656\n",
       "InternetService_No               0.5421      0.235      2.305      0.021       0.081       1.003\n",
       "================================================================================================\n",
       "\"\"\""
      ]
     },
     "execution_count": 41,
     "metadata": {},
     "output_type": "execute_result"
    }
   ],
   "source": [
    "# Display the complete summary of the model\n",
    "display(Markdown(\"### Results of the Logistic Regression Model\"))\n",
    "trained_model.summary()"
   ]
  },
  {
   "cell_type": "code",
   "execution_count": 42,
   "id": "375aa925",
   "metadata": {},
   "outputs": [
    {
     "data": {
      "text/markdown": [
       "\n",
       "The summary above contains valuable insights about our model.  \n",
       "Let's focus on the most important points for the business:\n",
       "\n",
       "1. **Coefficients (coef):** Show the direction of the impact.  \n",
       "   A positive coefficient increases the chance of churn, while a negative one decreases it.\n",
       "\n",
       "2. **P-value (P > |z|):** Indicates the statistical significance of each variable.  \n",
       "   A low p-value (usually < 0.05) means the effect of the variable is real and not just a random coincidence in the sample.\n",
       "\n",
       "3. **Pseudo R-squared:** Similar to R² in linear regression, it indicates the proportion of the \"variance\" in the dependent variable explained by the model.  \n",
       "   A value around 0.645 (or 65%) is considered a good fit for this type of model.\n",
       "\n",
       "To make interpretation easier, we’ll calculate the **Odds Ratio**, which tells us how the chances of churn change with a one-unit increase in each independent variable.\n",
       "\n",
       "The Odds Ratio is a measure used to compare the probability of an event occurring between two groups.  \n",
       "It is very common in statistics and models such as logistic regression.\n",
       "\n",
       "Simply put, the “odds” of an event are the ratio between the probability of it happening and not happening.  \n",
       "For example, if the probability of a client making a purchase is 0.8 (80%), the odds are 0.8 / 0.2 = 4.  \n",
       "That means the chance of purchase is four times higher than the chance of not purchasing.\n"
      ],
      "text/plain": [
       "<IPython.core.display.Markdown object>"
      ]
     },
     "metadata": {},
     "output_type": "display_data"
    }
   ],
   "source": [
    "display(Markdown(\"\"\"\n",
    "The summary above contains valuable insights about our model.  \n",
    "Let's focus on the most important points for the business:\n",
    "\n",
    "1. **Coefficients (coef):** Show the direction of the impact.  \n",
    "   A positive coefficient increases the chance of churn, while a negative one decreases it.\n",
    "\n",
    "2. **P-value (P > |z|):** Indicates the statistical significance of each variable.  \n",
    "   A low p-value (usually < 0.05) means the effect of the variable is real and not just a random coincidence in the sample.\n",
    "\n",
    "3. **Pseudo R-squared:** Similar to R² in linear regression, it indicates the proportion of the \"variance\" in the dependent variable explained by the model.  \n",
    "   A value around 0.645 (or 65%) is considered a good fit for this type of model.\n",
    "\n",
    "To make interpretation easier, we’ll calculate the **Odds Ratio**, which tells us how the chances of churn change with a one-unit increase in each independent variable.\n",
    "\n",
    "The Odds Ratio is a measure used to compare the probability of an event occurring between two groups.  \n",
    "It is very common in statistics and models such as logistic regression.\n",
    "\n",
    "Simply put, the “odds” of an event are the ratio between the probability of it happening and not happening.  \n",
    "For example, if the probability of a client making a purchase is 0.8 (80%), the odds are 0.8 / 0.2 = 4.  \n",
    "That means the chance of purchase is four times higher than the chance of not purchasing.\n",
    "\"\"\"))\n"
   ]
  },
  {
   "cell_type": "code",
   "execution_count": 43,
   "id": "7ab15b9a",
   "metadata": {},
   "outputs": [
    {
     "data": {
      "text/markdown": [
       "### Odds Ratio Table"
      ],
      "text/plain": [
       "<IPython.core.display.Markdown object>"
      ]
     },
     "metadata": {},
     "output_type": "display_data"
    },
    {
     "data": {
      "text/html": [
       "<div>\n",
       "<style scoped>\n",
       "    .dataframe tbody tr th:only-of-type {\n",
       "        vertical-align: middle;\n",
       "    }\n",
       "\n",
       "    .dataframe tbody tr th {\n",
       "        vertical-align: top;\n",
       "    }\n",
       "\n",
       "    .dataframe thead th {\n",
       "        text-align: right;\n",
       "    }\n",
       "</style>\n",
       "<table border=\"1\" class=\"dataframe\">\n",
       "  <thead>\n",
       "    <tr style=\"text-align: right;\">\n",
       "      <th></th>\n",
       "      <th>2.5%</th>\n",
       "      <th>97.5%</th>\n",
       "      <th>Odds Ratio</th>\n",
       "    </tr>\n",
       "  </thead>\n",
       "  <tbody>\n",
       "    <tr>\n",
       "      <th>const</th>\n",
       "      <td>0.0728</td>\n",
       "      <td>0.4926</td>\n",
       "      <td>0.1893</td>\n",
       "    </tr>\n",
       "    <tr>\n",
       "      <th>TenureMonths</th>\n",
       "      <td>0.9382</td>\n",
       "      <td>0.9549</td>\n",
       "      <td>0.9465</td>\n",
       "    </tr>\n",
       "    <tr>\n",
       "      <th>MonthlyCharge</th>\n",
       "      <td>1.0063</td>\n",
       "      <td>1.0573</td>\n",
       "      <td>1.0315</td>\n",
       "    </tr>\n",
       "    <tr>\n",
       "      <th>ContractType_Monthly</th>\n",
       "      <td>1.5633</td>\n",
       "      <td>23.7722</td>\n",
       "      <td>6.0962</td>\n",
       "    </tr>\n",
       "    <tr>\n",
       "      <th>ContractType_Two years</th>\n",
       "      <td>0.0943</td>\n",
       "      <td>0.2870</td>\n",
       "      <td>0.1645</td>\n",
       "    </tr>\n",
       "    <tr>\n",
       "      <th>InternetService_Fiber Optics</th>\n",
       "      <td>2.9395</td>\n",
       "      <td>5.2365</td>\n",
       "      <td>3.9233</td>\n",
       "    </tr>\n",
       "    <tr>\n",
       "      <th>InternetService_No</th>\n",
       "      <td>1.0845</td>\n",
       "      <td>2.7267</td>\n",
       "      <td>1.7196</td>\n",
       "    </tr>\n",
       "  </tbody>\n",
       "</table>\n",
       "</div>"
      ],
      "text/plain": [
       "                               2.5%   97.5%  Odds Ratio\n",
       "const                        0.0728  0.4926      0.1893\n",
       "TenureMonths                 0.9382  0.9549      0.9465\n",
       "MonthlyCharge                1.0063  1.0573      1.0315\n",
       "ContractType_Monthly         1.5633 23.7722      6.0962\n",
       "ContractType_Two years       0.0943  0.2870      0.1645\n",
       "InternetService_Fiber Optics 2.9395  5.2365      3.9233\n",
       "InternetService_No           1.0845  2.7267      1.7196"
      ]
     },
     "metadata": {},
     "output_type": "display_data"
    }
   ],
   "source": [
    "# Calculate and display the odds ratios (Odds Ratios)\n",
    "params = trained_model.params\n",
    "conf = trained_model.conf_int()\n",
    "conf['Odds Ratio'] = params\n",
    "conf.columns = ['2.5%', '97.5%', 'Odds Ratio']\n",
    "conf = np.exp(conf)\n",
    "\n",
    "display(Markdown(\"### Odds Ratio Table\"))\n",
    "display(conf)\n"
   ]
  },
  {
   "cell_type": "code",
   "execution_count": 46,
   "id": "9e5503f5",
   "metadata": {},
   "outputs": [
    {
     "data": {
      "text/markdown": [
       "\n",
       "### Interpretation of the Odds Ratio for the Business:\n",
       "\n",
       "1. **const (intercept)**  \n",
       "   The value **0.1893** represents the base churn odds when all other variables are zero.  \n",
       "   It doesn’t have a practical meaning, serving only as a reference baseline for the model.\n",
       "\n",
       "2. **TenureMonths (0.9465)**  \n",
       "   The odds ratio below 1 indicates a protective effect:  \n",
       "   the longer the customer stays (higher tenure), the lower the chance of churn.  \n",
       "   Each additional month reduces churn likelihood by roughly **(1 - 0.9465) × 100 = 5.35%**.\n",
       "\n",
       "3. **MonthlyCharge (1.0315)**  \n",
       "   A value slightly above 1 means that higher monthly bills increase the chance of churn.  \n",
       "   For each unit increase (for example, $1), churn odds rise by about **3.15%**.  \n",
       "   This might indicate price dissatisfaction or sensitivity to higher costs.\n",
       "\n",
       "4. **ContractType_Monthly (6.09)**  \n",
       "   Customers on monthly contracts are **6 times more likely** to churn compared to the reference group (for instance, two-year or one-year contracts).  \n",
       "   Monthly contracts are typically more flexible, so customers can cancel more easily.\n",
       "\n",
       "5. **ContractType_Two_years (0.2068)**  \n",
       "   The value under 1 shows that customers with two-year contracts are less likely to churn than those with shorter contracts.  \n",
       "   This suggests that long-term commitments help retain customers better.\n",
       "\n",
       "6. **InternetService_FiberOptics (3.9233)**  \n",
       "   Customers using fiber optics are **about 3.9 times more likely** to churn compared to those with DSL (the reference group).  \n",
       "   This could mean fiber users have higher service expectations or are more sensitive to issues.\n",
       "\n",
       "7. **InternetService_None (1.1796)**  \n",
       "   Customers without internet service have **about 17% higher churn odds**,  \n",
       "   but since the confidence interval (0.5485 to 2.7267) includes 1, this effect may not be statistically significant.\n",
       "\n",
       "**Summary:**\n",
       "- Longer customer tenure and long-term contracts reduce churn.  \n",
       "- High monthly charges, monthly contracts, and fiber-optic internet increase churn.  \n",
       "- The odds ratio shows both the **direction** and **magnitude** of each variable’s effect on churn probability.\n"
      ],
      "text/plain": [
       "<IPython.core.display.Markdown object>"
      ]
     },
     "metadata": {},
     "output_type": "display_data"
    }
   ],
   "source": [
    "display(Markdown(\"\"\"\n",
    "### Interpretation of the Odds Ratio for the Business:\n",
    "\n",
    "1. **const (intercept)**  \n",
    "   The value **0.1893** represents the base churn odds when all other variables are zero.  \n",
    "   It doesn’t have a practical meaning, serving only as a reference baseline for the model.\n",
    "\n",
    "2. **TenureMonths (0.9465)**  \n",
    "   The odds ratio below 1 indicates a protective effect:  \n",
    "   the longer the customer stays (higher tenure), the lower the chance of churn.  \n",
    "   Each additional month reduces churn likelihood by roughly **(1 - 0.9465) × 100 = 5.35%**.\n",
    "\n",
    "3. **MonthlyCharge (1.0315)**  \n",
    "   A value slightly above 1 means that higher monthly bills increase the chance of churn.  \n",
    "   For each unit increase (for example, $1), churn odds rise by about **3.15%**.  \n",
    "   This might indicate price dissatisfaction or sensitivity to higher costs.\n",
    "\n",
    "4. **ContractType_Monthly (6.09)**  \n",
    "   Customers on monthly contracts are **6 times more likely** to churn compared to the reference group (for instance, two-year or one-year contracts).  \n",
    "   Monthly contracts are typically more flexible, so customers can cancel more easily.\n",
    "\n",
    "5. **ContractType_Two_years (0.2068)**  \n",
    "   The value under 1 shows that customers with two-year contracts are less likely to churn than those with shorter contracts.  \n",
    "   This suggests that long-term commitments help retain customers better.\n",
    "\n",
    "6. **InternetService_FiberOptics (3.9233)**  \n",
    "   Customers using fiber optics are **about 3.9 times more likely** to churn compared to those with DSL (the reference group).  \n",
    "   This could mean fiber users have higher service expectations or are more sensitive to issues.\n",
    "\n",
    "7. **InternetService_None (1.1796)**  \n",
    "   Customers without internet service have **about 17% higher churn odds**,  \n",
    "   but since the confidence interval (0.5485 to 2.7267) includes 1, this effect may not be statistically significant.\n",
    "\n",
    "**Summary:**\n",
    "- Longer customer tenure and long-term contracts reduce churn.  \n",
    "- High monthly charges, monthly contracts, and fiber-optic internet increase churn.  \n",
    "- The odds ratio shows both the **direction** and **magnitude** of each variable’s effect on churn probability.\n",
    "\"\"\"))\n"
   ]
  },
  {
   "cell_type": "markdown",
   "id": "d465a709",
   "metadata": {},
   "source": [
    "## Results (Logistic Regression — Odds Ratios)\n",
    "- **TenureMonths** OR ≈ 0.95 → ~5% less churn per additional month.\n",
    "- **ContractType_Monthly** OR ≈ 6.1 → monthly plans ≈ 6× more likely to churn vs. long-term.\n",
    "- **MonthlyCharge** OR ≈ 1.03 → ~3% higher churn odds per $1 increase.\n",
    "\n",
    "> Interpretation: fidelização e contratos longos reduzem churn; fatura alta e plano mensal aumentam risco.\n"
   ]
  }
 ],
 "metadata": {
  "kernelspec": {
   "display_name": "Python 3",
   "language": "python",
   "name": "python3"
  },
  "language_info": {
   "codemirror_mode": {
    "name": "ipython",
    "version": 3
   },
   "file_extension": ".py",
   "mimetype": "text/x-python",
   "name": "python",
   "nbconvert_exporter": "python",
   "pygments_lexer": "ipython3",
   "version": "3.11.9"
  }
 },
 "nbformat": 4,
 "nbformat_minor": 5
}
